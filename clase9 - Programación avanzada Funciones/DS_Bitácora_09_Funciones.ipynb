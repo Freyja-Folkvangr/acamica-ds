{
 "cells": [
  {
   "cell_type": "markdown",
   "metadata": {
    "id": "aACXbvjjNi1k"
   },
   "source": [
    "# Funciones y Namespaces\n",
    "\n",
    "\n",
    "## 1. Funciones\n",
    "\n",
    "Una función es un bloque de código que sólo corre cuando es llamado."
   ]
  },
  {
   "cell_type": "code",
   "execution_count": 1,
   "metadata": {
    "id": "MCjgQG5fNi1n"
   },
   "outputs": [],
   "source": [
    "def par_o_impar(numero):\n",
    "    if numero %2 == 0:\n",
    "        print('Es par')\n",
    "    else:\n",
    "        print('Es impar')"
   ]
  },
  {
   "cell_type": "markdown",
   "metadata": {
    "id": "IdjJjwz-Ni1o"
   },
   "source": [
    "Notar que si ejecutamos la celda no ocurre nada apreciable. Si llamamos a la función"
   ]
  },
  {
   "cell_type": "code",
   "execution_count": 2,
   "metadata": {
    "id": "Q1iy79uKNi1o"
   },
   "outputs": [
    {
     "data": {
      "text/plain": "<function __main__.par_o_impar(numero)>"
     },
     "execution_count": 2,
     "metadata": {},
     "output_type": "execute_result"
    }
   ],
   "source": [
    "par_o_impar"
   ]
  },
  {
   "cell_type": "markdown",
   "metadata": {
    "id": "_CPQjGAHNi1o"
   },
   "source": [
    "Python nos dice, de una forma no muy clara, que se trata de una función. Las funciones se llaman con paréntesis:"
   ]
  },
  {
   "cell_type": "code",
   "execution_count": 3,
   "metadata": {
    "id": "Kjpid6eYNi1o"
   },
   "outputs": [
    {
     "name": "stdout",
     "output_type": "stream",
     "text": [
      "Es impar\n"
     ]
    }
   ],
   "source": [
    "par_o_impar(1)"
   ]
  },
  {
   "cell_type": "markdown",
   "metadata": {
    "id": "D3jh1TiCNi1o"
   },
   "source": [
    "Y en este caso, arroja un error porque falta un argumento, `numero`. Las dos siguientes son equivalentes:"
   ]
  },
  {
   "cell_type": "code",
   "execution_count": 4,
   "metadata": {
    "id": "dIu9MpuaNi1o"
   },
   "outputs": [
    {
     "name": "stdout",
     "output_type": "stream",
     "text": [
      "Es impar\n",
      "Es impar\n"
     ]
    }
   ],
   "source": [
    "par_o_impar(numero = 9)\n",
    "par_o_impar(9)"
   ]
  },
  {
   "cell_type": "markdown",
   "metadata": {
    "id": "LIVexvN2Ni1p"
   },
   "source": [
    "Al tener un solo argumento, en este caso no hay mucho lugar a confusión, pero las funciones pueden tener muchos argumentos:"
   ]
  },
  {
   "cell_type": "code",
   "execution_count": 5,
   "metadata": {
    "id": "sjPYZMocNi1p"
   },
   "outputs": [],
   "source": [
    "def division(dividendo, divisor):\n",
    "    print(dividendo/divisor)"
   ]
  },
  {
   "cell_type": "markdown",
   "metadata": {
    "id": "NwF0rsM6Ni1p"
   },
   "source": [
    "Entonces podemos llamar a la función pasándole los argumentos en orden, o explicitando el valor de cada argumento:"
   ]
  },
  {
   "cell_type": "code",
   "execution_count": 6,
   "metadata": {
    "id": "6JuD-tQUNi1p"
   },
   "outputs": [
    {
     "name": "stdout",
     "output_type": "stream",
     "text": [
      "2.0\n",
      "0.5\n"
     ]
    }
   ],
   "source": [
    "division(4,2)\n",
    "division(divisor = 4, dividendo = 2)  #notar que asi no nos tenemos que preocupar por el orden"
   ]
  },
  {
   "cell_type": "markdown",
   "metadata": {
    "id": "3I-Zrv_yNi1p"
   },
   "source": [
    "También, pueden tener argumentos *por default*, que si no explicitamos, toman un valor predefinido:"
   ]
  },
  {
   "cell_type": "code",
   "execution_count": 7,
   "metadata": {
    "id": "lePDGcTGNi1p"
   },
   "outputs": [],
   "source": [
    "def division(dividendo, divisor = 2):\n",
    "    print(dividendo/divisor)"
   ]
  },
  {
   "cell_type": "code",
   "execution_count": 8,
   "metadata": {
    "id": "nLSSDHdmNi1p"
   },
   "outputs": [
    {
     "name": "stdout",
     "output_type": "stream",
     "text": [
      "4.5\n",
      "3.0\n",
      "3.0\n",
      "3.0\n"
     ]
    }
   ],
   "source": [
    "division(9)\n",
    "division(9, 3) \n",
    "division(dividendo = 9, divisor = 3) \n",
    "division(9, divisor = 3) "
   ]
  },
  {
   "cell_type": "markdown",
   "metadata": {
    "id": "kCQx5U00Ni1p"
   },
   "source": [
    "### 1.1 `return`\n",
    "\n",
    "Las funciones pueden devolver resultados"
   ]
  },
  {
   "cell_type": "code",
   "execution_count": 9,
   "metadata": {
    "id": "fJyYL8oNNi1q"
   },
   "outputs": [],
   "source": [
    "def division(dividendo, divisor = 2):\n",
    "    variable_auxiliar = dividendo/divisor\n",
    "    return variable_auxiliar"
   ]
  },
  {
   "cell_type": "code",
   "execution_count": 10,
   "metadata": {
    "id": "ah2PEn7ZNi1q"
   },
   "outputs": [],
   "source": [
    "resultado_division = division(9,3)"
   ]
  },
  {
   "cell_type": "code",
   "execution_count": 11,
   "metadata": {
    "id": "q-Gxa33bNi1r"
   },
   "outputs": [
    {
     "name": "stdout",
     "output_type": "stream",
     "text": [
      "3.0\n"
     ]
    }
   ],
   "source": [
    "print(resultado_division)"
   ]
  },
  {
   "cell_type": "markdown",
   "metadata": {
    "id": "vHjOnSWXNi1r"
   },
   "source": [
    "Y, si lo necesitamos, podemos hacer que devuelvan más de un resultado"
   ]
  },
  {
   "cell_type": "code",
   "execution_count": 12,
   "metadata": {
    "id": "PNkrtLtHNi1r"
   },
   "outputs": [],
   "source": [
    "def division_y_producto(numero_1,numero_2):\n",
    "    div = numero_1/numero_2\n",
    "    prod = numero_1*numero_2\n",
    "    return div, prod\n",
    "\n",
    "### Son equivalentes\n",
    "# def division_y_producto(numero_1,numero_2):\n",
    "#     return numero_1/numero_2, numero_1*numero_2"
   ]
  },
  {
   "cell_type": "code",
   "execution_count": 13,
   "metadata": {
    "id": "Bq4Nj2q1Ni1r"
   },
   "outputs": [
    {
     "name": "stdout",
     "output_type": "stream",
     "text": [
      "(2.0, 50)\n"
     ]
    }
   ],
   "source": [
    "resultados = division_y_producto(10,5)\n",
    "print(resultados)"
   ]
  },
  {
   "cell_type": "markdown",
   "metadata": {
    "id": "2gVrH07_Ni1r"
   },
   "source": [
    "Notar la diferencia"
   ]
  },
  {
   "cell_type": "code",
   "execution_count": 14,
   "metadata": {
    "id": "_2RN907UNi1s"
   },
   "outputs": [
    {
     "name": "stdout",
     "output_type": "stream",
     "text": [
      "2.0 50\n"
     ]
    }
   ],
   "source": [
    "resultado_1, resultado_2 = division_y_producto(10,5)\n",
    "print(resultado_1, resultado_2)"
   ]
  },
  {
   "cell_type": "markdown",
   "metadata": {
    "id": "2_7TmfRWNi1s"
   },
   "source": [
    "### 2. Namespaces and Scope\n",
    "\n",
    "Encontrar la diferencia entre las siguientes celdas:"
   ]
  },
  {
   "cell_type": "code",
   "execution_count": 15,
   "metadata": {
    "id": "N1_gQpJKNi1s"
   },
   "outputs": [
    {
     "name": "stdout",
     "output_type": "stream",
     "text": [
      "25.0\n"
     ]
    }
   ],
   "source": [
    "def division(dividendo, divisor = 2):\n",
    "    variable_auxiliar = dividendo/divisor\n",
    "    return variable_auxiliar\n",
    "print(division(50))\n",
    "#print(divisor)"
   ]
  },
  {
   "cell_type": "code",
   "execution_count": 16,
   "metadata": {
    "id": "VVUCbSmENi1s"
   },
   "outputs": [
    {
     "name": "stdout",
     "output_type": "stream",
     "text": [
      "10.0\n",
      "5\n"
     ]
    }
   ],
   "source": [
    "divisor = 5\n",
    "def division(dividendo):\n",
    "    variable_auxiliar = dividendo/divisor\n",
    "    return variable_auxiliar\n",
    "print(division(50))\n",
    "print(divisor)"
   ]
  },
  {
   "cell_type": "code",
   "execution_count": 17,
   "metadata": {
    "id": "iG3QojvfNi1s"
   },
   "outputs": [
    {
     "name": "stdout",
     "output_type": "stream",
     "text": [
      "25.0\n",
      "5\n"
     ]
    }
   ],
   "source": [
    "divisor = 5\n",
    "def division(dividendo, divisor = 2):\n",
    "    variable_auxiliar = dividendo/divisor\n",
    "    return variable_auxiliar\n",
    "print(division(50))\n",
    "print(divisor)"
   ]
  },
  {
   "cell_type": "markdown",
   "metadata": {
    "id": "itZB6sNpNi1s"
   },
   "source": [
    "**Investigar:** ¿qué es una variable global?¿Y una variable local?¿Qué es un Namespace?"
   ]
  },
  {
   "cell_type": "markdown",
   "metadata": {
    "id": "J50H048TNi1s"
   },
   "source": [
    "### 3. Funciones Lambda (Anónimas)\n",
    "\n",
    "Una función `lambda` es una forma conveniente de crear una función en una sola línea. También se las conoce como funciones anónimas, ya que no suelen tener nombre."
   ]
  },
  {
   "cell_type": "code",
   "execution_count": 18,
   "metadata": {
    "id": "aSSzDex8Ni1s"
   },
   "outputs": [
    {
     "data": {
      "text/plain": "8.0"
     },
     "execution_count": 18,
     "metadata": {},
     "output_type": "execute_result"
    }
   ],
   "source": [
    "lambda_division = lambda x,y: x/y\n",
    "lambda_division(80,10)"
   ]
  },
  {
   "cell_type": "markdown",
   "metadata": {
    "id": "3BK7DBkUNi1s"
   },
   "source": [
    "Algunas características:\n",
    "1. Pueden tener cualquier cantidad de argumentos, pero solo una expresión\n",
    "1. No se les suele poner nombre como hicimos, de hecho es raro utilizarlas de esa forma.\n",
    "1. No necesitan un `return`\n",
    "1. Muy cómodas para crear funciones rápido.\n",
    "1. En general, las veras combinadas con funciones como `map()`, `filter()`, `apply()`, `applymap()`, etc.\n",
    "\n",
    "Existen algunas diferencias sutiles entre una función creada con `def` y una función lambda, pero para nuestros objetivos basta con saber que una función lambda es una forma rápida de crear funciones sencillas."
   ]
  },
  {
   "cell_type": "markdown",
   "metadata": {
    "id": "nsdIT1ttNi1s"
   },
   "source": [
    "### 4. Documentando funciones\n",
    "\n",
    "Cuando creemos funciones es conveniente documentarlas, así si volvemos meses después a nuestro código, o se lo compartimos a alguien, podemos entender qué hace sin tener que leer y entenderlo completamente. Es decir, de la misma forma que hacemos con muchas de las funciones de las librerías que venimos usando. Hay muchos formatos para documentar una función, pero en general incluyen: qué hace la función, cuales son sus argumentos, y cuáles son sus returns. A veces, también algún ejemplo mostrando cómo se usa. El grado de detalle depende del tiempo y de la complejidad de la función. Recomendamos siempre documentar las funciones, aunque sea de forma breve.\n",
    "\n",
    "Dejamos un formato de documentación a modo de ejemplo. En general, se estila documentar en inglés, pero vamos a hacer una excepción."
   ]
  },
  {
   "cell_type": "code",
   "execution_count": 19,
   "metadata": {
    "id": "VsJV4-i9Ni1t"
   },
   "outputs": [],
   "source": [
    "def division_y_producto(numero_1,numero_2):\n",
    "    '''\n",
    "    Dados dos numeros, devuelve su division\n",
    "    y su producto.\n",
    "    \n",
    "    Arguments:\n",
    "    numero_1 -- dividendo, primer multiplicando\n",
    "    numero_2 -- divisor, segundo multiplicando\n",
    "    \n",
    "    Returns:\n",
    "    div -- la division entre los dos numeros\n",
    "    prod -- el producto entre los dos numeros\n",
    "    '''\n",
    "    \n",
    "    div = numero_1/numero_2\n",
    "    prod = numero_1*numero_2\n",
    "    return div, prod"
   ]
  },
  {
   "cell_type": "markdown",
   "metadata": {
    "id": "ZYiU1EU6Ni1t"
   },
   "source": [
    "Notar que si ahora ponemos `help()` de nuestra función, devuelve la documentación que creamos."
   ]
  },
  {
   "cell_type": "code",
   "execution_count": 20,
   "metadata": {
    "id": "CzKI2_j-Ni1u"
   },
   "outputs": [
    {
     "name": "stdout",
     "output_type": "stream",
     "text": [
      "Help on function division_y_producto in module __main__:\n",
      "\n",
      "division_y_producto(numero_1, numero_2)\n",
      "    Dados dos numeros, devuelve su division\n",
      "    y su producto.\n",
      "    \n",
      "    Arguments:\n",
      "    numero_1 -- dividendo, primer multiplicando\n",
      "    numero_2 -- divisor, segundo multiplicando\n",
      "    \n",
      "    Returns:\n",
      "    div -- la division entre los dos numeros\n",
      "    prod -- el producto entre los dos numeros\n",
      "\n"
     ]
    }
   ],
   "source": [
    "help(division_y_producto)"
   ]
  },
  {
   "cell_type": "markdown",
   "metadata": {
    "id": "MCh4oB7fNi1v"
   },
   "source": [
    "También, si usamos `shift`+`tab` como hacemos con las otras funciones de las librerías.\n",
    "\n",
    "### Challenge\n",
    "\n",
    "1. Crea una función que tome como entrada dos arreglos de Numpy. Luego, que chequee si tienen el mismo tamaño; si no es así, que imprima un mensaje indicando que no tienen el mismo tamaño. Si tienen el mismo tamaño, que haga las siguientes operaciones:\n",
    "    1. Crear un nuevo arreglo con el resultado de las resta de los dos arreglos originales.\n",
    "    1. Elevar al cuadrado ese arreglo.\n",
    "    1. Sumar todos los elementos y dividir por la cantidad de elementos.\n",
    "    1. Devuelva la raiz de ese resultado."
   ]
  },
  {
   "cell_type": "code",
   "execution_count": 39,
   "metadata": {
    "id": "o2_-T4gMNi1w"
   },
   "outputs": [
    {
     "data": {
      "text/plain": "6.0"
     },
     "execution_count": 39,
     "metadata": {},
     "output_type": "execute_result"
    }
   ],
   "source": [
    "import numpy as np\n",
    "\n",
    "def RMSE(arreglo_1: np.array, arreglo_2: np.array):\n",
    "    '''\n",
    "\n",
    "    :param arreglo_1: numpy array\n",
    "    :param arreglo_2: numpy array\n",
    "    :return: resta de los dos arreglos al cuadrado raiz\n",
    "    '''\n",
    "    if len(arreglo_1) != len(arreglo_2):\n",
    "        raise Exception('Deben tener mismo largo')\n",
    "    resta = arreglo_2 - arreglo_1\n",
    "    resta = resta ** 2\n",
    "    return np.average(resta) ** 0.5\n",
    "\n",
    "\n",
    "\n",
    "lista = [0,1,2,3,4,5]\n",
    "lista2 = [6,7,8,9,10,11]\n",
    "arreglo = np.array(lista)\n",
    "arreglo2 = np.array(lista2)\n",
    "RMSE(arreglo, arreglo2)"
   ]
  },
  {
   "cell_type": "markdown",
   "metadata": {
    "id": "-I8XM48fNi1w"
   },
   "source": [
    "Testeamos el resultados"
   ]
  },
  {
   "cell_type": "code",
   "execution_count": 40,
   "metadata": {
    "id": "hv6RrYM0Ni1w"
   },
   "outputs": [
    {
     "name": "stdout",
     "output_type": "stream",
     "text": [
      "[ -1  -6   5 -10   7   6   7  -2  -1 -10   0  -2  -6   9   6  -6   5   1\n",
      "   1  -9  -2  -6   4   7   9   3  -5   3   9   3   2  -9  -6   8   3   1\n",
      "   0  -1   5   8   6  -3   1   7   4  -3   1  -9 -10   2]\n",
      "[ -5  -6  -3   8   2  -8  -2   5   3   5  -4   0   1   6   2 -10   7   5\n",
      "   2  -2   0   3   1  -9   8   3  -2  -1  -5 -10   8  -7   6   8   6   4\n",
      "   9   5   9   7   8   4   6   0   7 -10   7  -1   6  -1]\n"
     ]
    }
   ],
   "source": [
    "np.random.seed(10)  # que hace esta linea?\n",
    "arreglo_1 = np.random.randint(-10,10, 50)\n",
    "arreglo_2 = np.random.randint(-10,10, 50)\n",
    "print(arreglo_1)\n",
    "print(arreglo_2)"
   ]
  },
  {
   "cell_type": "code",
   "execution_count": 41,
   "metadata": {
    "id": "Abec76BoNi1w"
   },
   "outputs": [
    {
     "data": {
      "text/plain": "7.487322618933954"
     },
     "execution_count": 41,
     "metadata": {},
     "output_type": "execute_result"
    }
   ],
   "source": [
    "RMSE(arreglo_1, arreglo_2)"
   ]
  },
  {
   "cell_type": "markdown",
   "metadata": {
    "id": "XfiCnVeFNi1w"
   },
   "source": [
    "Debería dar como resultado 7.48732"
   ]
  },
  {
   "cell_type": "code",
   "execution_count": 42,
   "metadata": {
    "id": "LJG84OLANi1x"
   },
   "outputs": [
    {
     "name": "stdout",
     "output_type": "stream",
     "text": [
      "[ -1  -6   5 -10   7   6   7  -2  -1 -10   0  -2  -6   9   6  -6   5   1\n",
      "   1  -9  -2  -6   4   7   9]\n",
      "[  3  -5   3   9   3   2  -9  -6   8   3   1   0  -1   5   8   6  -3   1\n",
      "   7   4  -3   1  -9 -10   2  -5  -6  -3   8   2  -8  -2   5   3   5  -4\n",
      "   0   1   6   2 -10   7   5   2  -2   0   3   1  -9   8]\n"
     ]
    }
   ],
   "source": [
    "np.random.seed(10)  # que hace esta linea?\n",
    "arreglo_1 = np.random.randint(-10,10, 25)\n",
    "arreglo_2 = np.random.randint(-10,10, 50)\n",
    "print(arreglo_1)\n",
    "print(arreglo_2)"
   ]
  },
  {
   "cell_type": "code",
   "execution_count": 43,
   "metadata": {
    "id": "XAMBbg8bNi1x"
   },
   "outputs": [
    {
     "ename": "Exception",
     "evalue": "Deben tener mismo largo",
     "output_type": "error",
     "traceback": [
      "\u001B[0;31m---------------------------------------------------------------------------\u001B[0m",
      "\u001B[0;31mException\u001B[0m                                 Traceback (most recent call last)",
      "\u001B[0;32m<ipython-input-43-c9bc87852a15>\u001B[0m in \u001B[0;36m<module>\u001B[0;34m\u001B[0m\n\u001B[0;32m----> 1\u001B[0;31m \u001B[0mRMSE\u001B[0m\u001B[0;34m(\u001B[0m\u001B[0marreglo_1\u001B[0m\u001B[0;34m,\u001B[0m \u001B[0marreglo_2\u001B[0m\u001B[0;34m)\u001B[0m\u001B[0;34m\u001B[0m\u001B[0;34m\u001B[0m\u001B[0m\n\u001B[0m\u001B[1;32m      2\u001B[0m \u001B[0;34m\u001B[0m\u001B[0m\n",
      "\u001B[0;32m<ipython-input-39-8f7f2fc38ba0>\u001B[0m in \u001B[0;36mRMSE\u001B[0;34m(arreglo_1, arreglo_2)\u001B[0m\n\u001B[1;32m      9\u001B[0m     '''\n\u001B[1;32m     10\u001B[0m     \u001B[0;32mif\u001B[0m \u001B[0mlen\u001B[0m\u001B[0;34m(\u001B[0m\u001B[0marreglo_1\u001B[0m\u001B[0;34m)\u001B[0m \u001B[0;34m!=\u001B[0m \u001B[0mlen\u001B[0m\u001B[0;34m(\u001B[0m\u001B[0marreglo_2\u001B[0m\u001B[0;34m)\u001B[0m\u001B[0;34m:\u001B[0m\u001B[0;34m\u001B[0m\u001B[0;34m\u001B[0m\u001B[0m\n\u001B[0;32m---> 11\u001B[0;31m         \u001B[0;32mraise\u001B[0m \u001B[0mException\u001B[0m\u001B[0;34m(\u001B[0m\u001B[0;34m'Deben tener mismo largo'\u001B[0m\u001B[0;34m)\u001B[0m\u001B[0;34m\u001B[0m\u001B[0;34m\u001B[0m\u001B[0m\n\u001B[0m\u001B[1;32m     12\u001B[0m     \u001B[0mresta\u001B[0m \u001B[0;34m=\u001B[0m \u001B[0marreglo_2\u001B[0m \u001B[0;34m-\u001B[0m \u001B[0marreglo_1\u001B[0m\u001B[0;34m\u001B[0m\u001B[0;34m\u001B[0m\u001B[0m\n\u001B[1;32m     13\u001B[0m     \u001B[0mresta\u001B[0m \u001B[0;34m=\u001B[0m \u001B[0mresta\u001B[0m \u001B[0;34m**\u001B[0m \u001B[0;36m2\u001B[0m\u001B[0;34m\u001B[0m\u001B[0;34m\u001B[0m\u001B[0m\n",
      "\u001B[0;31mException\u001B[0m: Deben tener mismo largo"
     ]
    }
   ],
   "source": [
    "RMSE(arreglo_1, arreglo_2)"
   ]
  },
  {
   "cell_type": "markdown",
   "metadata": {
    "id": "KcGNqT1zNi1x"
   },
   "source": [
    "Debería dar como resultado un mensaje indicando que no tienen el mismo tamaño."
   ]
  },
  {
   "cell_type": "markdown",
   "metadata": {
    "id": "sF1aq8jVNi1x"
   },
   "source": [
    "2. Documentar brevemente la función creada."
   ]
  },
  {
   "cell_type": "markdown",
   "metadata": {
    "id": "8c_kptsLNi1y"
   },
   "source": [
    "### 5. Ejercitación - Generala\n",
    "\n",
    "¡Vamos a jugar a la generala! Para los que no la conocen: es un juego de dados. En este juego tienes 3 tiradas y 5 dados para formar distintas combinaciones (escalera, full, etc). Después de cada tiro, puedes decidir cuántos y cuáles dados dejar en la mesa y cuáles volver a tirar. De esta forma, tienes tres tiradas para lograr alguna de las combinaciones. La combinación que más puntos te da es la generala, que se obtiene cuando los 5 dados devuelven el mismo número.\n",
    "\n",
    "El jugador puede tomar decisiones y plantear una estrategia en este juego, pero la última palabra la tiene el azar. Un buen matemático podría calcular las probabilidades de cada combinación, e ir calculando cómo se modifican estas probabilidades a medida que va dejando - o no - dados sobre la mesa.\n",
    "\n",
    "En nuestro caso, lo que haremos es simular una generala simplificada - el único objetivo es obtener la generala, cinco dados iguales. Para ello, programarás una serie de funciones que te ayudarán a jugar a este juego. Con estas funciones, podrás responder varias preguntas, entre ellas:\n",
    "\n",
    "1. ¿Cuán probable es obtener una generala en la primera tirada?\n",
    "1. ¿Cuán probable es obtener una generala con dos tiradas?\n",
    "1. ¿Cuán probable es obtener una generala luego de las tres tiradas?\n",
    "1. ¿Qué es más problable: obtener una generala con tres tiradas y cinco dados o cuatros tiradas y seis dados?\n",
    "\n",
    "y las que se te ocurran. ¡Manos a la obra!\n",
    "\n",
    "**Importante:** todas las funciones que te pedimos definir acá se resuelven en pocas líneas de código. NumPy y Google forman un gran equipo. Nosotros te dejamos casos de testeo para tus funciones. Resuélvelos con un/a compañero/a, recuerda pensar el problema (escribiéndolo en un papel, hablándolo con alguien) y luego programa. ¡Verás que no son tan difíciles!\n",
    "\n",
    "**Importante dos:** este desafío fue propuesto por *Ernesto Mislej* en el grupo de Facebook *Data Science Argentina*.¡Recomendamos unirse a éste o a otro grupo sobre Ciencia de Datos!"
   ]
  },
  {
   "cell_type": "markdown",
   "metadata": {
    "id": "TwlJDScjNi1y"
   },
   "source": [
    "1. Crea la función `tirar_n_dados`. Debe tomar como argumento por defecto `n = 5`, pero tiene que funcionar correctamente para otros valores de `n`."
   ]
  },
  {
   "cell_type": "code",
   "execution_count": 26,
   "metadata": {
    "id": "llqLGnGfNi1y"
   },
   "outputs": [],
   "source": [
    "def tirar_n_dados():\n",
    "    pass"
   ]
  },
  {
   "cell_type": "code",
   "execution_count": 27,
   "metadata": {
    "id": "S4BjP9E1Ni1y"
   },
   "outputs": [],
   "source": [
    "tirar_n_dados()"
   ]
  },
  {
   "cell_type": "markdown",
   "metadata": {
    "id": "Zg9a8BJDNi1y"
   },
   "source": [
    "2. Crea la función `es_generala`. Esta función toma como entrada los resultados de `tirar_n_dados` y devuelve `True` si es generala y `False` si no lo es."
   ]
  },
  {
   "cell_type": "code",
   "execution_count": 28,
   "metadata": {
    "id": "-mkDudOgNi1y"
   },
   "outputs": [],
   "source": [
    "def es_generala():\n",
    "    pass\n",
    "    "
   ]
  },
  {
   "cell_type": "code",
   "execution_count": 29,
   "metadata": {
    "id": "M-jQ-8lQNi1y"
   },
   "outputs": [],
   "source": [
    "### TESTEO UNO\n",
    "array_de_prueba = np.array([2,5,5,5,6])\n",
    "#print(es_generala(array_de_prueba))"
   ]
  },
  {
   "cell_type": "code",
   "execution_count": 30,
   "metadata": {
    "id": "Rjg73epXNi1y"
   },
   "outputs": [
    {
     "ename": "TypeError",
     "evalue": "tirar_n_dados() got an unexpected keyword argument 'n'",
     "output_type": "error",
     "traceback": [
      "\u001B[0;31m---------------------------------------------------------------------------\u001B[0m",
      "\u001B[0;31mTypeError\u001B[0m                                 Traceback (most recent call last)",
      "\u001B[0;32m<ipython-input-30-b16b9b14ce34>\u001B[0m in \u001B[0;36m<module>\u001B[0;34m\u001B[0m\n\u001B[1;32m      1\u001B[0m \u001B[0;31m### TESTEO DOS\u001B[0m\u001B[0;34m\u001B[0m\u001B[0;34m\u001B[0m\u001B[0;34m\u001B[0m\u001B[0m\n\u001B[1;32m      2\u001B[0m \u001B[0;32mfor\u001B[0m \u001B[0m_\u001B[0m \u001B[0;32min\u001B[0m \u001B[0mrange\u001B[0m\u001B[0;34m(\u001B[0m\u001B[0;36m10000\u001B[0m\u001B[0;34m)\u001B[0m\u001B[0;34m:\u001B[0m\u001B[0;34m\u001B[0m\u001B[0;34m\u001B[0m\u001B[0m\n\u001B[0;32m----> 3\u001B[0;31m     \u001B[0mtirada_dados\u001B[0m \u001B[0;34m=\u001B[0m \u001B[0mtirar_n_dados\u001B[0m\u001B[0;34m(\u001B[0m\u001B[0mn\u001B[0m \u001B[0;34m=\u001B[0m \u001B[0;36m5\u001B[0m\u001B[0;34m)\u001B[0m\u001B[0;34m\u001B[0m\u001B[0;34m\u001B[0m\u001B[0m\n\u001B[0m\u001B[1;32m      4\u001B[0m     \u001B[0;32mif\u001B[0m \u001B[0mes_generala\u001B[0m\u001B[0;34m(\u001B[0m\u001B[0mtirada_dados\u001B[0m\u001B[0;34m)\u001B[0m\u001B[0;34m:\u001B[0m\u001B[0;34m\u001B[0m\u001B[0;34m\u001B[0m\u001B[0m\n\u001B[1;32m      5\u001B[0m         \u001B[0mprint\u001B[0m\u001B[0;34m(\u001B[0m\u001B[0mtirada_dados\u001B[0m\u001B[0;34m)\u001B[0m\u001B[0;34m\u001B[0m\u001B[0;34m\u001B[0m\u001B[0m\n",
      "\u001B[0;31mTypeError\u001B[0m: tirar_n_dados() got an unexpected keyword argument 'n'"
     ]
    }
   ],
   "source": [
    "### TESTEO DOS\n",
    "for _ in range(10000):\n",
    "    tirada_dados = tirar_n_dados(n = 5)\n",
    "    if es_generala(tirada_dados):\n",
    "        print(tirada_dados)"
   ]
  },
  {
   "cell_type": "markdown",
   "metadata": {
    "id": "dPpAPO3-Ni1y"
   },
   "source": [
    "3. Crea una función `seleccionar_mayoria` que, dada una tirada de n dados, devuelve cuál es la moda de los resultados y con qué frecuencia. Dos consideraciones: \n",
    "    * Si los n resultados son distintos, es indistinto cuál valor devuelve.\n",
    "    * Si hay más de un valor posible para devolver - por ejemplo, en la tira `[1, 1, 2, 2, 3]` -, es indistinto cuál valor elige.\n",
    "    \n",
    "    Tal vez te sirva saber que estas consideraciones se resuelven automáticamente si utilizas algunas herramientas de NumPy, como `np.unique()`, `np.argmax()` y alguna más."
   ]
  },
  {
   "cell_type": "code",
   "execution_count": null,
   "metadata": {
    "id": "n-gCKf51Ni1y"
   },
   "outputs": [],
   "source": [
    "def seleccionar_mayoria():\n",
    "    pass\n",
    "    return maximo, frecuencia"
   ]
  },
  {
   "cell_type": "code",
   "execution_count": null,
   "metadata": {
    "id": "VYLmWIgBNi1y"
   },
   "outputs": [],
   "source": [
    "# TESTEO UNO\n",
    "array_de_prueba = np.array([1,1,1,5,5])\n",
    "print(seleccionar_mayoria(array_de_prueba))\n",
    "### Debería dar como resultado (1,3)\n",
    "\n",
    "# TESTEO DOS\n",
    "array_de_prueba = np.array([5,3,2,1,6])\n",
    "print(seleccionar_mayoria(array_de_prueba))\n",
    "### Debería dar como resultado (algun numero salvo el 4,1)"
   ]
  },
  {
   "cell_type": "markdown",
   "metadata": {
    "id": "roktc_BYNi1z"
   },
   "source": [
    "Acá la cosa se empieza a poner áspera, pero tampoco tanto. Veamos algunas situaciones:\n",
    "\n",
    "* Supongamos que en una primera tirada obtienes como resultado `[1, 1, 2, 5, 3]`. En ese caso, te debes quedar con los dados `[1, 1]` y volver a tirar los otros tres dados. Si cuando tiras los tres dados obtienes tres valores iguales **distintos** de los que habías reservado, la mejor estrategia es quedarte con esos tres dados y volver a tirar los otros dos. \n",
    "* Supongamos que en una primera tirada obtienes como resultado `[1, 1, 2, 5, 3]`. En ese caso, te debes quedar con los dados `[1, 1]` y volver a tirar los otros tres dados. Si cuando tiras los tres dados obtienes `[1, 1, 5]` debes poder sumar a los dados que apartaste esos dos `1`.\n",
    "\n",
    "Entonces:\n",
    "\n",
    "\n",
    "4. Crea una función `jugar` tome como argumentos `n_tiradas` con argumento por defecto `3` y `dados_total` con argumento por defecto `5` y que, utilizando las funciones que definiste antes, juegue a la generala. La función debe devolver un arreglo con las n-tiradas realizadas y un índice indicando en qué tirada logró la generala si corresponde (si no logra la generala, debe devolver un valor que indique que no se logró la generala, ¿cuál se te ocurre?). \n",
    "    \n",
    "    Te vamos a dejar un esqueleto bastante armado para esta función, pero si quieres arrancar desde cero, obviamente puedes hacerlo. Para completarlo, ten en cuenta que luego de cada tirada debes dejar algunos dados en la mesa, `dados_mesa`, y volver a tirar otros, `dados_nuevos`. La cantidad de dados nuevos que debes tirar se decide dinámicamente en cada ciclo del loop. Cuando decides qué dados deben quedar sobre la mesa, debes mirar tanto los dados que ya estaban sobre la mesa como los que acabas de tirar, `todos_dados`."
   ]
  },
  {
   "cell_type": "code",
   "execution_count": null,
   "metadata": {
    "id": "_sz572MNNi1z"
   },
   "outputs": [],
   "source": [
    "def jugar(n_tiradas = 3, dados_total= 5):\n",
    "    # Numero de dados a tirar inicialmente\n",
    "    n_dados = dados_total \n",
    "    \n",
    "    # Dados en la mesa inicialmente\n",
    "    dados_mesa = np.array([]) \n",
    "    \n",
    "    # Donde guardamos las tiradas\n",
    "    tiradas = np.zeros(COMPLETAR) \n",
    "    \n",
    "    # Numero de tirada exitosa, en la que se logra la generala\n",
    "    # Inicializar en un valor que indique que NO se obtuvo generala.\n",
    "    # Si luego se obtiene una generala, se modificará\n",
    "    tirada_exitosa = COMPLETAR\n",
    "    \n",
    "    # Contamos cuantas tiradas hicimos hasta ahora\n",
    "    contador_tiradas = 0\n",
    "    \n",
    "    while (contador_tiradas < n_tiradas) and tirada_exitosa == -1:\n",
    "        # Tiramos los dados\n",
    "        dados_nuevos = COMPLETAR\n",
    "        \n",
    "        # Combinamos los dados recien tirados con los que ya estan en la mesa\n",
    "        todos_dados = np.concatenate(COMPLETAR)\n",
    "        \n",
    "        # Guardamos tirada\n",
    "        tiradas[COMPLETAR,:] = COMPLETAR\n",
    "        \n",
    "        # Nos fijamos si es generala\n",
    "        if COMPLETAR:\n",
    "            # Si es, modificamos el valor de tirada exitosa.\n",
    "            # Esto debe cortar el loop.\n",
    "            COMPLETAR\n",
    "        else:\n",
    "            # Si no es generala, sigue tirando \n",
    "            # Se fija qué dados debe dejar en la mesa\n",
    "            maximo, frecuencia = COMPLETAR\n",
    "            dados_mesa = np.repeat(maximo, frecuencia)\n",
    "            \n",
    "            # Calcula cuántos dados volver a tirar\n",
    "            n_dados = COMPLETAR\n",
    "        \n",
    "        # Suma al contador de tiradas\n",
    "        COMPLETAR\n",
    "    return tiradas, tirada_exitosa"
   ]
  },
  {
   "cell_type": "code",
   "execution_count": null,
   "metadata": {
    "id": "9gMi4uGWNi1z"
   },
   "outputs": [],
   "source": [
    "# TESTEO\n",
    "for i in range(200):\n",
    "    tiradas, tirada_exitosa = jugar(3, 5)\n",
    "    if tirada_exitosa >=0:\n",
    "        print(tiradas, tirada_exitosa)"
   ]
  },
  {
   "cell_type": "markdown",
   "metadata": {
    "id": "m3iEnwB_Ni1z"
   },
   "source": [
    "¿Estás contento/a con el código?¿Está bien hecho?¿Se te ocurre alguna situación que no haya sido considerada o donde pueda fallar? Siempre es importante ser crítico con el código desarrollado (y con la metodología en general) en busca de puntos débiles. Siempre se puede programar mejor. De hecho, hay un montón de buenas costumbres cuando programamos funciones que hemos dejado de lado, como por ejemplo, chequear que a nuestra funciones les lleguen los argumentos correctos. Por ejemplo, si nuestra función debe recibir como argumento un arreglo de NumPy de cierto shape, no está demás chequearlo.\n",
    "\n",
    "Ahora sí, es hora de jugar con estas funciones. Elije algunas de las preguntas e intenta responderla, o genera alguna propia y fíjate si lo que hicimos te sirve para responderla. Nosotros elegimos responder qué generala es más probable, si tres tiros y cinco dados o cuatro tiros y seis dados, que te la daremos junto con el resuelto de este notebook."
   ]
  }
 ],
 "metadata": {
  "colab": {
   "name": "DS_Bitácora_09_Funciones.ipynb",
   "provenance": []
  },
  "kernelspec": {
   "display_name": "Python 3",
   "language": "python",
   "name": "python3"
  },
  "language_info": {
   "codemirror_mode": {
    "name": "ipython",
    "version": 3
   },
   "file_extension": ".py",
   "mimetype": "text/x-python",
   "name": "python",
   "nbconvert_exporter": "python",
   "pygments_lexer": "ipython3",
   "version": "3.9.1"
  }
 },
 "nbformat": 4,
 "nbformat_minor": 4
}