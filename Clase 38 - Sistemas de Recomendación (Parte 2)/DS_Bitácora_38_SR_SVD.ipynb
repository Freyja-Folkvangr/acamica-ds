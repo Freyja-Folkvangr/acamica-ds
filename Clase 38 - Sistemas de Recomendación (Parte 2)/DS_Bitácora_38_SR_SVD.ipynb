{
  "nbformat": 4,
  "nbformat_minor": 0,
  "metadata": {
    "kernelspec": {
      "display_name": "Python 3",
      "language": "python",
      "name": "python3"
    },
    "language_info": {
      "codemirror_mode": {
        "name": "ipython",
        "version": 3
      },
      "file_extension": ".py",
      "mimetype": "text/x-python",
      "name": "python",
      "nbconvert_exporter": "python",
      "pygments_lexer": "ipython3",
      "version": "3.8.2"
    },
    "colab": {
      "name": "DS_Bitácora_38_SR_SVD.ipynb",
      "provenance": []
    }
  },
  "cells": [
    {
      "cell_type": "markdown",
      "metadata": {
        "id": "uTPka-fRs_54"
      },
      "source": [
        "# Sistemas de Recomendación - Netflix Prize Challenge\n",
        "\n",
        "## Filtro Colaborativo a partir de descomposición UV\n",
        "\n",
        "En este notebook vamos a implementar un sistema de recomendación usando un método tipo descomposición UV.\n",
        "\n",
        "Vamos a usar la biblioteca Surprise. Te recomendamos tener abierta la [documentación](https://surprise.readthedocs.io/en/stable/getting_started.html) a medida que vas recorriendo esta sección.\n",
        "\n",
        "### 1. Dataset y Train/test split\n",
        "\n",
        "Carga de datos"
      ]
    },
    {
      "cell_type": "code",
      "metadata": {
        "id": "QapqOhFUs_54"
      },
      "source": [
        "import numpy as np\n",
        "import matplotlib.pyplot as plt\n",
        "import seaborn as sns\n",
        "sns.set()\n",
        "\n",
        "import pandas as pd\n",
        "\n",
        "import gc #garbage collector\n",
        "\n",
        "from surprise import Dataset\n",
        "from surprise import Reader\n",
        "from surprise.model_selection import train_test_split"
      ],
      "execution_count": null,
      "outputs": []
    },
    {
      "cell_type": "code",
      "metadata": {
        "id": "uoP3iT9ys_54",
        "outputId": "79c79249-c411-4a80-f66c-868af63cba81"
      },
      "source": [
        "df1 = pd.read_csv('netflix-prize-data/combined_data_1_with_movie_id.csv', dtype={'Rating': np.int8, 'movie_id': np.int16})\n",
        "print(df1.shape)\n",
        "df1.head()"
      ],
      "execution_count": null,
      "outputs": [
        {
          "output_type": "stream",
          "text": [
            "(24053764, 3)\n"
          ],
          "name": "stdout"
        },
        {
          "output_type": "execute_result",
          "data": {
            "text/html": [
              "<div>\n",
              "<style scoped>\n",
              "    .dataframe tbody tr th:only-of-type {\n",
              "        vertical-align: middle;\n",
              "    }\n",
              "\n",
              "    .dataframe tbody tr th {\n",
              "        vertical-align: top;\n",
              "    }\n",
              "\n",
              "    .dataframe thead th {\n",
              "        text-align: right;\n",
              "    }\n",
              "</style>\n",
              "<table border=\"1\" class=\"dataframe\">\n",
              "  <thead>\n",
              "    <tr style=\"text-align: right;\">\n",
              "      <th></th>\n",
              "      <th>User</th>\n",
              "      <th>Rating</th>\n",
              "      <th>Movie_id</th>\n",
              "    </tr>\n",
              "  </thead>\n",
              "  <tbody>\n",
              "    <tr>\n",
              "      <th>0</th>\n",
              "      <td>1488844</td>\n",
              "      <td>3</td>\n",
              "      <td>1</td>\n",
              "    </tr>\n",
              "    <tr>\n",
              "      <th>1</th>\n",
              "      <td>822109</td>\n",
              "      <td>5</td>\n",
              "      <td>1</td>\n",
              "    </tr>\n",
              "    <tr>\n",
              "      <th>2</th>\n",
              "      <td>885013</td>\n",
              "      <td>4</td>\n",
              "      <td>1</td>\n",
              "    </tr>\n",
              "    <tr>\n",
              "      <th>3</th>\n",
              "      <td>30878</td>\n",
              "      <td>4</td>\n",
              "      <td>1</td>\n",
              "    </tr>\n",
              "    <tr>\n",
              "      <th>4</th>\n",
              "      <td>823519</td>\n",
              "      <td>3</td>\n",
              "      <td>1</td>\n",
              "    </tr>\n",
              "  </tbody>\n",
              "</table>\n",
              "</div>"
            ],
            "text/plain": [
              "      User  Rating  Movie_id\n",
              "0  1488844       3         1\n",
              "1   822109       5         1\n",
              "2   885013       4         1\n",
              "3    30878       4         1\n",
              "4   823519       3         1"
            ]
          },
          "metadata": {
            "tags": []
          },
          "execution_count": 2
        }
      ]
    },
    {
      "cell_type": "code",
      "metadata": {
        "id": "R1y6iLixs_55",
        "outputId": "b933a01d-d532-48ad-8e97-a131e3717c1e"
      },
      "source": [
        "df_title = pd.read_csv('netflix-prize-data/movie_titles.csv', encoding = \"ISO-8859-1\",index_col = 0, header = None, usecols = [0,2], names = ['Movie_Id', 'Name'])\n",
        "df_title.head()"
      ],
      "execution_count": null,
      "outputs": [
        {
          "output_type": "execute_result",
          "data": {
            "text/html": [
              "<div>\n",
              "<style scoped>\n",
              "    .dataframe tbody tr th:only-of-type {\n",
              "        vertical-align: middle;\n",
              "    }\n",
              "\n",
              "    .dataframe tbody tr th {\n",
              "        vertical-align: top;\n",
              "    }\n",
              "\n",
              "    .dataframe thead th {\n",
              "        text-align: right;\n",
              "    }\n",
              "</style>\n",
              "<table border=\"1\" class=\"dataframe\">\n",
              "  <thead>\n",
              "    <tr style=\"text-align: right;\">\n",
              "      <th></th>\n",
              "      <th>Name</th>\n",
              "    </tr>\n",
              "    <tr>\n",
              "      <th>Movie_Id</th>\n",
              "      <th></th>\n",
              "    </tr>\n",
              "  </thead>\n",
              "  <tbody>\n",
              "    <tr>\n",
              "      <th>1</th>\n",
              "      <td>Dinosaur Planet</td>\n",
              "    </tr>\n",
              "    <tr>\n",
              "      <th>2</th>\n",
              "      <td>Isle of Man TT 2004 Review</td>\n",
              "    </tr>\n",
              "    <tr>\n",
              "      <th>3</th>\n",
              "      <td>Character</td>\n",
              "    </tr>\n",
              "    <tr>\n",
              "      <th>4</th>\n",
              "      <td>Paula Abdul's Get Up &amp; Dance</td>\n",
              "    </tr>\n",
              "    <tr>\n",
              "      <th>5</th>\n",
              "      <td>The Rise and Fall of ECW</td>\n",
              "    </tr>\n",
              "  </tbody>\n",
              "</table>\n",
              "</div>"
            ],
            "text/plain": [
              "                                  Name\n",
              "Movie_Id                              \n",
              "1                      Dinosaur Planet\n",
              "2           Isle of Man TT 2004 Review\n",
              "3                            Character\n",
              "4         Paula Abdul's Get Up & Dance\n",
              "5             The Rise and Fall of ECW"
            ]
          },
          "metadata": {
            "tags": []
          },
          "execution_count": 3
        }
      ]
    },
    {
      "cell_type": "markdown",
      "metadata": {
        "id": "yF5S6dv1s_55"
      },
      "source": [
        "Primero, llevamos el dataset al formato que le gusta a la biblioteca. ¿En qué orden tienen que estar los atributos? Investigar qué hace la clase `Reader` y cuáles son sus parámetros."
      ]
    },
    {
      "cell_type": "code",
      "metadata": {
        "id": "JoJSYPcws_56"
      },
      "source": [
        "reader = Reader()"
      ],
      "execution_count": null,
      "outputs": []
    },
    {
      "cell_type": "markdown",
      "metadata": {
        "id": "5liuQ1MQs_56"
      },
      "source": [
        "Luego, creamos el `Dataset` de Surprise usando `Dataset.load_from_df`"
      ]
    },
    {
      "cell_type": "code",
      "metadata": {
        "id": "vqU6WZlXs_56"
      },
      "source": [
        "N_filas = 100000 # Limitamos el dataset a N_filas\n",
        "\n",
        "data = Dataset.load_from_df(df1[['User', 'Movie_id', 'Rating']][:N_filas], reader)"
      ],
      "execution_count": null,
      "outputs": []
    },
    {
      "cell_type": "markdown",
      "metadata": {
        "id": "GKbmDGLXs_56"
      },
      "source": [
        "¿Cómo les parece que es mejor hacer el split?¿Dejando películas en test, usuarios o combinaciones?"
      ]
    },
    {
      "cell_type": "code",
      "metadata": {
        "id": "JhrfHMsks_56"
      },
      "source": [
        "trainset, testset = train_test_split(data, test_size=.25)"
      ],
      "execution_count": null,
      "outputs": []
    },
    {
      "cell_type": "markdown",
      "metadata": {
        "id": "HHEdiuTNs_56"
      },
      "source": [
        "### 2.2 Entrenamiento\n",
        "\n",
        "Vamos a entrenar un algoritmo SVD. Explorar sus parámetros y su funcionamiento."
      ]
    },
    {
      "cell_type": "code",
      "metadata": {
        "id": "1e96suhls_56"
      },
      "source": [
        "from surprise import SVD\n",
        "algo = SVD()"
      ],
      "execution_count": null,
      "outputs": []
    },
    {
      "cell_type": "markdown",
      "metadata": {
        "id": "w_66NFMEs_56"
      },
      "source": [
        "Entrenamos sobre el `trainset`"
      ]
    },
    {
      "cell_type": "code",
      "metadata": {
        "id": "QLNxIsrKs_56",
        "outputId": "ee3e6aef-4a35-4fcb-8f7d-95118639f59f"
      },
      "source": [
        "algo.fit(trainset)"
      ],
      "execution_count": null,
      "outputs": [
        {
          "output_type": "execute_result",
          "data": {
            "text/plain": [
              "<surprise.prediction_algorithms.matrix_factorization.SVD at 0x7f177403c0a0>"
            ]
          },
          "metadata": {
            "tags": []
          },
          "execution_count": 8
        }
      ]
    },
    {
      "cell_type": "markdown",
      "metadata": {
        "id": "YHkdMw72s_57"
      },
      "source": [
        "Y predecimos sobre el `testset`. Notar que para predecir sobre un conjunto de test se usa la función `test`."
      ]
    },
    {
      "cell_type": "code",
      "metadata": {
        "id": "yghEDipus_57"
      },
      "source": [
        "predictions = algo.test(testset)"
      ],
      "execution_count": null,
      "outputs": []
    },
    {
      "cell_type": "markdown",
      "metadata": {
        "id": "vJI4igD9s_57"
      },
      "source": [
        "Explorar las característica de `predictions` y alguno de sus elementos"
      ]
    },
    {
      "cell_type": "code",
      "metadata": {
        "id": "ZnlY7Ga0s_57",
        "outputId": "0c9c853d-e229-4f4f-92d9-bf8c8c161cf3"
      },
      "source": [
        "predictions[1]"
      ],
      "execution_count": null,
      "outputs": [
        {
          "output_type": "execute_result",
          "data": {
            "text/plain": [
              "Prediction(uid=1115532, iid=30, r_ui=5.0, est=3.7116552426532627, details={'was_impossible': False})"
            ]
          },
          "metadata": {
            "tags": []
          },
          "execution_count": 10
        }
      ]
    },
    {
      "cell_type": "markdown",
      "metadata": {
        "id": "TWooZS8xs_57"
      },
      "source": [
        "En cambio, si queremos predecir para un usuario y una película en particular, usamos la función `predict`"
      ]
    },
    {
      "cell_type": "code",
      "metadata": {
        "id": "Yvg9XE8ss_57",
        "outputId": "b6302068-1e73-4275-a7bd-140e64440ef5"
      },
      "source": [
        "algo.predict(1328945,28)"
      ],
      "execution_count": null,
      "outputs": [
        {
          "output_type": "execute_result",
          "data": {
            "text/plain": [
              "Prediction(uid=1328945, iid=28, r_ui=None, est=3.5978202187660067, details={'was_impossible': False})"
            ]
          },
          "metadata": {
            "tags": []
          },
          "execution_count": 11
        }
      ]
    },
    {
      "cell_type": "markdown",
      "metadata": {
        "id": "tfndARDFs_57"
      },
      "source": [
        "Exploremos un usuario, veamos cuáles películas le gustaron y cuáles les recomienda el sistema.\n",
        "\n",
        "Películas que le gustaron"
      ]
    },
    {
      "cell_type": "code",
      "metadata": {
        "id": "55oDgLf2s_57",
        "outputId": "0e945df0-5faf-412c-841f-7cac588ff9c5"
      },
      "source": [
        "usuario = 1539350\n",
        "rating = 5   # le pedimos peliculas a las que haya puesto 4 o 5 estrellas\n",
        "df_user = df1[(df1['User'] == usuario) & (df1['Rating'] >= rating)]\n",
        "df_user = df_user.reset_index(drop=True)\n",
        "df_user['Name'] = df_title['Name'].loc[df_user.Movie_id].values\n",
        "df_user"
      ],
      "execution_count": null,
      "outputs": [
        {
          "output_type": "execute_result",
          "data": {
            "text/html": [
              "<div>\n",
              "<style scoped>\n",
              "    .dataframe tbody tr th:only-of-type {\n",
              "        vertical-align: middle;\n",
              "    }\n",
              "\n",
              "    .dataframe tbody tr th {\n",
              "        vertical-align: top;\n",
              "    }\n",
              "\n",
              "    .dataframe thead th {\n",
              "        text-align: right;\n",
              "    }\n",
              "</style>\n",
              "<table border=\"1\" class=\"dataframe\">\n",
              "  <thead>\n",
              "    <tr style=\"text-align: right;\">\n",
              "      <th></th>\n",
              "      <th>User</th>\n",
              "      <th>Rating</th>\n",
              "      <th>Movie_id</th>\n",
              "      <th>Name</th>\n",
              "    </tr>\n",
              "  </thead>\n",
              "  <tbody>\n",
              "    <tr>\n",
              "      <th>0</th>\n",
              "      <td>1539350</td>\n",
              "      <td>5</td>\n",
              "      <td>269</td>\n",
              "      <td>Parenthood</td>\n",
              "    </tr>\n",
              "    <tr>\n",
              "      <th>1</th>\n",
              "      <td>1539350</td>\n",
              "      <td>5</td>\n",
              "      <td>270</td>\n",
              "      <td>Sex and the City: Season 4</td>\n",
              "    </tr>\n",
              "    <tr>\n",
              "      <th>2</th>\n",
              "      <td>1539350</td>\n",
              "      <td>5</td>\n",
              "      <td>406</td>\n",
              "      <td>Hostage</td>\n",
              "    </tr>\n",
              "    <tr>\n",
              "      <th>3</th>\n",
              "      <td>1539350</td>\n",
              "      <td>5</td>\n",
              "      <td>1202</td>\n",
              "      <td>National Lampoon's Vacation</td>\n",
              "    </tr>\n",
              "    <tr>\n",
              "      <th>4</th>\n",
              "      <td>1539350</td>\n",
              "      <td>5</td>\n",
              "      <td>2862</td>\n",
              "      <td>The Silence of the Lambs</td>\n",
              "    </tr>\n",
              "    <tr>\n",
              "      <th>5</th>\n",
              "      <td>1539350</td>\n",
              "      <td>5</td>\n",
              "      <td>3151</td>\n",
              "      <td>Napoleon Dynamite</td>\n",
              "    </tr>\n",
              "    <tr>\n",
              "      <th>6</th>\n",
              "      <td>1539350</td>\n",
              "      <td>5</td>\n",
              "      <td>3605</td>\n",
              "      <td>The Wizard of Oz: Collector's Edition</td>\n",
              "    </tr>\n",
              "    <tr>\n",
              "      <th>7</th>\n",
              "      <td>1539350</td>\n",
              "      <td>5</td>\n",
              "      <td>3928</td>\n",
              "      <td>Nip/Tuck: Season 2</td>\n",
              "    </tr>\n",
              "    <tr>\n",
              "      <th>8</th>\n",
              "      <td>1539350</td>\n",
              "      <td>5</td>\n",
              "      <td>4159</td>\n",
              "      <td>Barbershop</td>\n",
              "    </tr>\n",
              "  </tbody>\n",
              "</table>\n",
              "</div>"
            ],
            "text/plain": [
              "      User  Rating  Movie_id                                   Name\n",
              "0  1539350       5       269                             Parenthood\n",
              "1  1539350       5       270             Sex and the City: Season 4\n",
              "2  1539350       5       406                                Hostage\n",
              "3  1539350       5      1202            National Lampoon's Vacation\n",
              "4  1539350       5      2862               The Silence of the Lambs\n",
              "5  1539350       5      3151                      Napoleon Dynamite\n",
              "6  1539350       5      3605  The Wizard of Oz: Collector's Edition\n",
              "7  1539350       5      3928                     Nip/Tuck: Season 2\n",
              "8  1539350       5      4159                             Barbershop"
            ]
          },
          "metadata": {
            "tags": []
          },
          "execution_count": 12
        }
      ]
    },
    {
      "cell_type": "markdown",
      "metadata": {
        "id": "NzWs1otDs_58"
      },
      "source": [
        "Creamos donde vamos a guardar las recomendaciones"
      ]
    },
    {
      "cell_type": "code",
      "metadata": {
        "id": "7VmV-sHbs_58",
        "outputId": "7959f85e-e335-4796-970e-be9aa84f9b0e"
      },
      "source": [
        "recomendaciones_usuario = df_title.iloc[:4499].copy()\n",
        "print(recomendaciones_usuario.shape)\n",
        "recomendaciones_usuario.head()"
      ],
      "execution_count": null,
      "outputs": [
        {
          "output_type": "stream",
          "text": [
            "(4499, 1)\n"
          ],
          "name": "stdout"
        },
        {
          "output_type": "execute_result",
          "data": {
            "text/html": [
              "<div>\n",
              "<style scoped>\n",
              "    .dataframe tbody tr th:only-of-type {\n",
              "        vertical-align: middle;\n",
              "    }\n",
              "\n",
              "    .dataframe tbody tr th {\n",
              "        vertical-align: top;\n",
              "    }\n",
              "\n",
              "    .dataframe thead th {\n",
              "        text-align: right;\n",
              "    }\n",
              "</style>\n",
              "<table border=\"1\" class=\"dataframe\">\n",
              "  <thead>\n",
              "    <tr style=\"text-align: right;\">\n",
              "      <th></th>\n",
              "      <th>Name</th>\n",
              "    </tr>\n",
              "    <tr>\n",
              "      <th>Movie_Id</th>\n",
              "      <th></th>\n",
              "    </tr>\n",
              "  </thead>\n",
              "  <tbody>\n",
              "    <tr>\n",
              "      <th>1</th>\n",
              "      <td>Dinosaur Planet</td>\n",
              "    </tr>\n",
              "    <tr>\n",
              "      <th>2</th>\n",
              "      <td>Isle of Man TT 2004 Review</td>\n",
              "    </tr>\n",
              "    <tr>\n",
              "      <th>3</th>\n",
              "      <td>Character</td>\n",
              "    </tr>\n",
              "    <tr>\n",
              "      <th>4</th>\n",
              "      <td>Paula Abdul's Get Up &amp; Dance</td>\n",
              "    </tr>\n",
              "    <tr>\n",
              "      <th>5</th>\n",
              "      <td>The Rise and Fall of ECW</td>\n",
              "    </tr>\n",
              "  </tbody>\n",
              "</table>\n",
              "</div>"
            ],
            "text/plain": [
              "                                  Name\n",
              "Movie_Id                              \n",
              "1                      Dinosaur Planet\n",
              "2           Isle of Man TT 2004 Review\n",
              "3                            Character\n",
              "4         Paula Abdul's Get Up & Dance\n",
              "5             The Rise and Fall of ECW"
            ]
          },
          "metadata": {
            "tags": []
          },
          "execution_count": 13
        }
      ]
    },
    {
      "cell_type": "markdown",
      "metadata": {
        "id": "GhXc4Ibss_58"
      },
      "source": [
        "Sacamos del dataframe todas las películas que ya sabemos que vio"
      ]
    },
    {
      "cell_type": "code",
      "metadata": {
        "id": "0mjDYWAas_58",
        "outputId": "399f30a4-8b43-47b8-af81-48c3ccfc9a3a"
      },
      "source": [
        "usuario_vistas = df1[df1['User'] == usuario]\n",
        "print(usuario_vistas.shape)\n",
        "usuario_vistas.head()"
      ],
      "execution_count": null,
      "outputs": [
        {
          "output_type": "stream",
          "text": [
            "(97, 3)\n"
          ],
          "name": "stdout"
        },
        {
          "output_type": "execute_result",
          "data": {
            "text/html": [
              "<div>\n",
              "<style scoped>\n",
              "    .dataframe tbody tr th:only-of-type {\n",
              "        vertical-align: middle;\n",
              "    }\n",
              "\n",
              "    .dataframe tbody tr th {\n",
              "        vertical-align: top;\n",
              "    }\n",
              "\n",
              "    .dataframe thead th {\n",
              "        text-align: right;\n",
              "    }\n",
              "</style>\n",
              "<table border=\"1\" class=\"dataframe\">\n",
              "  <thead>\n",
              "    <tr style=\"text-align: right;\">\n",
              "      <th></th>\n",
              "      <th>User</th>\n",
              "      <th>Rating</th>\n",
              "      <th>Movie_id</th>\n",
              "    </tr>\n",
              "  </thead>\n",
              "  <tbody>\n",
              "    <tr>\n",
              "      <th>219870</th>\n",
              "      <td>1539350</td>\n",
              "      <td>3</td>\n",
              "      <td>33</td>\n",
              "    </tr>\n",
              "    <tr>\n",
              "      <th>409717</th>\n",
              "      <td>1539350</td>\n",
              "      <td>4</td>\n",
              "      <td>111</td>\n",
              "    </tr>\n",
              "    <tr>\n",
              "      <th>445206</th>\n",
              "      <td>1539350</td>\n",
              "      <td>3</td>\n",
              "      <td>127</td>\n",
              "    </tr>\n",
              "    <tr>\n",
              "      <th>664099</th>\n",
              "      <td>1539350</td>\n",
              "      <td>4</td>\n",
              "      <td>175</td>\n",
              "    </tr>\n",
              "    <tr>\n",
              "      <th>894718</th>\n",
              "      <td>1539350</td>\n",
              "      <td>4</td>\n",
              "      <td>197</td>\n",
              "    </tr>\n",
              "  </tbody>\n",
              "</table>\n",
              "</div>"
            ],
            "text/plain": [
              "           User  Rating  Movie_id\n",
              "219870  1539350       3        33\n",
              "409717  1539350       4       111\n",
              "445206  1539350       3       127\n",
              "664099  1539350       4       175\n",
              "894718  1539350       4       197"
            ]
          },
          "metadata": {
            "tags": []
          },
          "execution_count": 14
        }
      ]
    },
    {
      "cell_type": "code",
      "metadata": {
        "id": "X1GliJ6ls_58",
        "outputId": "a8fc2061-ebdb-4774-efee-74cc08882222"
      },
      "source": [
        "recomendaciones_usuario.drop(usuario_vistas.Movie_id, inplace = True)\n",
        "recomendaciones_usuario = recomendaciones_usuario.reset_index()\n",
        "recomendaciones_usuario.head()"
      ],
      "execution_count": null,
      "outputs": [
        {
          "output_type": "execute_result",
          "data": {
            "text/html": [
              "<div>\n",
              "<style scoped>\n",
              "    .dataframe tbody tr th:only-of-type {\n",
              "        vertical-align: middle;\n",
              "    }\n",
              "\n",
              "    .dataframe tbody tr th {\n",
              "        vertical-align: top;\n",
              "    }\n",
              "\n",
              "    .dataframe thead th {\n",
              "        text-align: right;\n",
              "    }\n",
              "</style>\n",
              "<table border=\"1\" class=\"dataframe\">\n",
              "  <thead>\n",
              "    <tr style=\"text-align: right;\">\n",
              "      <th></th>\n",
              "      <th>Movie_Id</th>\n",
              "      <th>Name</th>\n",
              "    </tr>\n",
              "  </thead>\n",
              "  <tbody>\n",
              "    <tr>\n",
              "      <th>0</th>\n",
              "      <td>1</td>\n",
              "      <td>Dinosaur Planet</td>\n",
              "    </tr>\n",
              "    <tr>\n",
              "      <th>1</th>\n",
              "      <td>2</td>\n",
              "      <td>Isle of Man TT 2004 Review</td>\n",
              "    </tr>\n",
              "    <tr>\n",
              "      <th>2</th>\n",
              "      <td>3</td>\n",
              "      <td>Character</td>\n",
              "    </tr>\n",
              "    <tr>\n",
              "      <th>3</th>\n",
              "      <td>4</td>\n",
              "      <td>Paula Abdul's Get Up &amp; Dance</td>\n",
              "    </tr>\n",
              "    <tr>\n",
              "      <th>4</th>\n",
              "      <td>5</td>\n",
              "      <td>The Rise and Fall of ECW</td>\n",
              "    </tr>\n",
              "  </tbody>\n",
              "</table>\n",
              "</div>"
            ],
            "text/plain": [
              "   Movie_Id                          Name\n",
              "0         1               Dinosaur Planet\n",
              "1         2    Isle of Man TT 2004 Review\n",
              "2         3                     Character\n",
              "3         4  Paula Abdul's Get Up & Dance\n",
              "4         5      The Rise and Fall of ECW"
            ]
          },
          "metadata": {
            "tags": []
          },
          "execution_count": 15
        }
      ]
    },
    {
      "cell_type": "markdown",
      "metadata": {
        "id": "sFXnrahfs_58"
      },
      "source": [
        "Y hacemos las recomendaciones"
      ]
    },
    {
      "cell_type": "code",
      "metadata": {
        "id": "VFGFgtjZs_58"
      },
      "source": [
        "recomendaciones_usuario['Estimate_Score'] = recomendaciones_usuario['Movie_Id'].apply(lambda x: algo.predict(usuario, x).est)"
      ],
      "execution_count": null,
      "outputs": []
    },
    {
      "cell_type": "code",
      "metadata": {
        "id": "feee8BD2s_58",
        "outputId": "7d49cad3-7edf-470b-f675-eb0a5da68c77"
      },
      "source": [
        "recomendaciones_usuario = recomendaciones_usuario.sort_values('Estimate_Score', ascending=False)\n",
        "print(recomendaciones_usuario.head(10))"
      ],
      "execution_count": null,
      "outputs": [
        {
          "output_type": "stream",
          "text": [
            "    Movie_Id                                               Name  \\\n",
            "12        13  Lord of the Rings: The Return of the King: Ext...   \n",
            "24        25      Inspector Morse 31: Death Is Now My Neighbour   \n",
            "4          5                           The Rise and Fall of ECW   \n",
            "0          1                                    Dinosaur Planet   \n",
            "17        18                                   Immortal Beloved   \n",
            "27        28                                    Lilo and Stitch   \n",
            "2          3                                          Character   \n",
            "29        30                             Something's Gotta Give   \n",
            "28        29                                            Boycott   \n",
            "1          2                         Isle of Man TT 2004 Review   \n",
            "\n",
            "    Estimate_Score  \n",
            "12        4.507674  \n",
            "24        4.053974  \n",
            "4         3.919658  \n",
            "0         3.836982  \n",
            "17        3.808009  \n",
            "27        3.795462  \n",
            "2         3.720992  \n",
            "29        3.711655  \n",
            "28        3.671390  \n",
            "1         3.642158  \n"
          ],
          "name": "stdout"
        }
      ]
    },
    {
      "cell_type": "markdown",
      "metadata": {
        "id": "UbGW74vus_58"
      },
      "source": [
        "### 2. Evaluación\n",
        "\n",
        "Para el conjunto de `testset`, evaluamos el error RMSE entre las predicciones y las verdaderas calificaciones que le habían dado a las películas. Para eso, buscar en la documentación cómo se hace."
      ]
    },
    {
      "cell_type": "code",
      "metadata": {
        "id": "y13oqhgCs_59",
        "outputId": "a7948905-77d2-4141-8e4b-94902300c2a7"
      },
      "source": [
        "from surprise import COMPLETAR\n",
        "\n",
        "COMPLETAR"
      ],
      "execution_count": null,
      "outputs": [
        {
          "output_type": "stream",
          "text": [
            "RMSE: 1.0581\n"
          ],
          "name": "stdout"
        },
        {
          "output_type": "execute_result",
          "data": {
            "text/plain": [
              "1.058137336959263"
            ]
          },
          "metadata": {
            "tags": []
          },
          "execution_count": 20
        }
      ]
    },
    {
      "cell_type": "markdown",
      "metadata": {
        "id": "oRe2LTQms_59"
      },
      "source": [
        "### 3. Optimización de parámetros\n",
        "\n",
        "**Ejercicio**: hacer un gráfico del desempeño del modelo en función del número de factores del `SVD`"
      ]
    },
    {
      "cell_type": "code",
      "metadata": {
        "id": "uev5Y9Bgs_59"
      },
      "source": [
        "from surprise.model_selection import cross_validate\n",
        "\n",
        "rmse_test_means = []\n",
        "factores = COMPLETAR\n",
        "\n",
        "for COMPLETAR in COMPLETAR:\n",
        "    print(COMPLETAR)\n",
        "    algo = SVD(n_factors=COMPLETAR)\n",
        "    cv = COMPLETAR(COMPLETAR, COMPLETAR, measures=['RMSE'], cv = 3, verbose=True)\n",
        "    rmse_test_means.append(np.mean(cv['test_rmse']))"
      ],
      "execution_count": null,
      "outputs": []
    },
    {
      "cell_type": "code",
      "metadata": {
        "id": "atiPsGyPs_59"
      },
      "source": [
        "plt.scatter(COMPLETAR, COMPLETAR)\n",
        "plt.xlabel('Numero de factores')\n",
        "plt.ylabel('Error RMSE')\n",
        "plt.show()"
      ],
      "execution_count": null,
      "outputs": []
    },
    {
      "cell_type": "markdown",
      "metadata": {
        "id": "Ezs50zZEs_59"
      },
      "source": [
        "**Ejercicio**: recordar que, cuando entrenamos un `SVD`, estamos usando descenso por gradiente para minimizar una función de costo. Usar `GridSearchCV` para buscar valores óptimos para los siguientes parámetros (tres por parámetros, utilizar los valores default de referencia): `n_factors`, `n_epochs`, `lr_all` y `reg_all`. Estudiar qué representa cada uno de ellos mientras esperan. Tomarse un café."
      ]
    },
    {
      "cell_type": "code",
      "metadata": {
        "id": "ISg0_Pqes_5-"
      },
      "source": [
        "from surprise.model_selection import GridSearchCV\n",
        "\n",
        "param_grid = {'COMPLETAR': COMPLETAR,'COMPLETAR': COMPLETAR], 'COMPLETAR': COMPLETAR,\n",
        "              'COMPLETAR': COMPLETAR}\n",
        "gs = GridSearchCV(SVD, COMPLETAR, measures=['rmse'], cv=3, n_jobs = -1)\n",
        "gs.fit(data)\n"
      ],
      "execution_count": null,
      "outputs": []
    },
    {
      "cell_type": "code",
      "metadata": {
        "id": "M3bnd1Zps_5-"
      },
      "source": [
        "print(gs.best_score['rmse'])\n",
        "print(gs.best_params['rmse'])"
      ],
      "execution_count": null,
      "outputs": []
    },
    {
      "cell_type": "markdown",
      "metadata": {
        "id": "Avd1r9-ts_5-"
      },
      "source": [
        "## Extra: Agrandando el Dataset\n",
        "\n",
        "Podemos sumar al dataset el resto de las calificaciones que no usamos.\n",
        "\n",
        "Como corremos el riesgo de que se nos llene la memoria RAM, vamos a hacerlo de a poco y con cuidado. Arrancamos agregando las calificaciones que hay en `combined_data_2.txt`.\n",
        "\n",
        "0. Reiniciar el Kernel\n",
        "1. Abrir el archivo `combined_data_2.txt` con la función `load_data`.\n",
        "2. Agregar una columna con el `Movie_id` al que corresponden las calificaciones. Si te animas, puedes crear una función que realice este paso.\n",
        "3. Opcional: filtrar películas con pocas calificaciones\n",
        "4. Abrir el archivo donde ya está procesado `combined_data_1.txt`. \n",
        "5. Agregar al final las nuevas calificaciones y guardarlo en un nuevo archivo.\n",
        "\n",
        "\n",
        "Una vez que estén contentos con el procedimientos, repetir los pasos anteriores para los archivos faltantes."
      ]
    },
    {
      "cell_type": "code",
      "metadata": {
        "id": "bZnmlIQRs_5_"
      },
      "source": [
        "import numpy as np\n",
        "import matplotlib.pyplot as plt\n",
        "import seaborn as sns\n",
        "sns.set()\n",
        "\n",
        "import pandas as pd\n",
        "\n",
        "import gc #garbage collector"
      ],
      "execution_count": null,
      "outputs": []
    },
    {
      "cell_type": "code",
      "metadata": {
        "id": "zFnqc7j-s_5_",
        "outputId": "4d52df37-6080-4479-f9dc-92cba22c8266"
      },
      "source": [
        "### 1\n",
        "\n",
        "def load_data(name):\n",
        "    df = pd.read_csv(name, header = None, names = ['User','Rating'], usecols = [0,1])\n",
        "    return df\n",
        "\n",
        "\n",
        "df2 = load_data('netflix-prize-data/combined_data_2.txt')\n",
        "print(df2.shape)"
      ],
      "execution_count": null,
      "outputs": [
        {
          "output_type": "stream",
          "text": [
            "(26982302, 2)\n"
          ],
          "name": "stdout"
        }
      ]
    },
    {
      "cell_type": "code",
      "metadata": {
        "id": "pzmqYF_hs_5_",
        "outputId": "f09433d5-9475-44f4-9729-5e125b35dd6d"
      },
      "source": [
        "### 2.\n",
        "movies_ids_df2 = df2.User[df2.Rating.isna()].values\n",
        "print(movies_ids_df2)\n",
        "print(len(movies_ids_df2))\n",
        "\n",
        "movies_ids_df2 = np.arange(4500,len(movies_ids_df2) + 4500)\n",
        "print(movies_ids_df2)"
      ],
      "execution_count": null,
      "outputs": [
        {
          "output_type": "stream",
          "text": [
            "['4500:' '4501:' '4502:' ... '9208:' '9209:' '9210:']\n",
            "4711\n",
            "[4500 4501 4502 ... 9208 9209 9210]\n"
          ],
          "name": "stdout"
        }
      ]
    },
    {
      "cell_type": "code",
      "metadata": {
        "id": "zv94Cmexs_6A",
        "outputId": "599614ce-8564-4aef-874c-55a701b2f028"
      },
      "source": [
        "df2_nan = pd.DataFrame(pd.isnull(df2.Rating))\n",
        "df2_nan = df2_nan[df2_nan['Rating'] == True]\n",
        "idx_movies_ids = df2_nan.index.values\n",
        "print(idx_movies_ids)"
      ],
      "execution_count": null,
      "outputs": [
        {
          "output_type": "stream",
          "text": [
            "[       0      259      855 ... 26961403 26980373 26980497]\n"
          ],
          "name": "stdout"
        }
      ]
    },
    {
      "cell_type": "code",
      "metadata": {
        "id": "9fBqlSNFs_6A",
        "outputId": "804890d4-f6b0-471d-893d-d44d7ef425c1"
      },
      "source": [
        "# Agregamos el indice de la ultima instancia del dataframe\n",
        "idx_movies_ids = np.append(idx_movies_ids,df2.shape[0])\n",
        "cantidad_criticas = np.diff(idx_movies_ids)\n",
        "cantidad_criticas"
      ],
      "execution_count": null,
      "outputs": [
        {
          "output_type": "execute_result",
          "data": {
            "text/plain": [
              "array([  259,   596,   105, ..., 18970,   124,  1805])"
            ]
          },
          "metadata": {
            "tags": []
          },
          "execution_count": 6
        }
      ]
    },
    {
      "cell_type": "code",
      "metadata": {
        "id": "CvoEBXv5s_6A"
      },
      "source": [
        "columna_movie_id = np.array([])\n",
        "for i in range(cantidad_criticas.size):\n",
        "    aux = np.full(cantidad_criticas[i], movies_ids_df2[i])\n",
        "    columna_movie_id = np.concatenate((columna_movie_id, aux))"
      ],
      "execution_count": null,
      "outputs": []
    },
    {
      "cell_type": "code",
      "metadata": {
        "id": "bDi0X6oRs_6A",
        "outputId": "9213d74d-ad11-4a2e-ff41-c9d49655ccd7"
      },
      "source": [
        "df2['Movie_id'] = columna_movie_id\n",
        "del columna_movie_id\n",
        "\n",
        "df2.dropna(inplace = True)\n",
        "df2['User'] = df2['User'].astype(int)\n",
        "df2['Movie_id'] = df2['Movie_id'].astype(np.int16)\n",
        "df2['Rating'] = df2['Rating'].astype(np.int8)\n",
        "\n",
        "gc.collect()"
      ],
      "execution_count": null,
      "outputs": [
        {
          "output_type": "execute_result",
          "data": {
            "text/plain": [
              "88"
            ]
          },
          "metadata": {
            "tags": []
          },
          "execution_count": 9
        }
      ]
    },
    {
      "cell_type": "code",
      "metadata": {
        "id": "X3pNjqHVs_6A",
        "outputId": "a4522306-976b-47d9-ac29-95032c7d397b"
      },
      "source": [
        "df2"
      ],
      "execution_count": null,
      "outputs": [
        {
          "output_type": "execute_result",
          "data": {
            "text/html": [
              "<div>\n",
              "<style scoped>\n",
              "    .dataframe tbody tr th:only-of-type {\n",
              "        vertical-align: middle;\n",
              "    }\n",
              "\n",
              "    .dataframe tbody tr th {\n",
              "        vertical-align: top;\n",
              "    }\n",
              "\n",
              "    .dataframe thead th {\n",
              "        text-align: right;\n",
              "    }\n",
              "</style>\n",
              "<table border=\"1\" class=\"dataframe\">\n",
              "  <thead>\n",
              "    <tr style=\"text-align: right;\">\n",
              "      <th></th>\n",
              "      <th>User</th>\n",
              "      <th>Rating</th>\n",
              "      <th>Movie_id</th>\n",
              "    </tr>\n",
              "  </thead>\n",
              "  <tbody>\n",
              "    <tr>\n",
              "      <th>1</th>\n",
              "      <td>2532865</td>\n",
              "      <td>4</td>\n",
              "      <td>4500</td>\n",
              "    </tr>\n",
              "    <tr>\n",
              "      <th>2</th>\n",
              "      <td>573364</td>\n",
              "      <td>3</td>\n",
              "      <td>4500</td>\n",
              "    </tr>\n",
              "    <tr>\n",
              "      <th>3</th>\n",
              "      <td>1696725</td>\n",
              "      <td>3</td>\n",
              "      <td>4500</td>\n",
              "    </tr>\n",
              "    <tr>\n",
              "      <th>4</th>\n",
              "      <td>1253431</td>\n",
              "      <td>3</td>\n",
              "      <td>4500</td>\n",
              "    </tr>\n",
              "    <tr>\n",
              "      <th>5</th>\n",
              "      <td>1265574</td>\n",
              "      <td>2</td>\n",
              "      <td>4500</td>\n",
              "    </tr>\n",
              "    <tr>\n",
              "      <th>...</th>\n",
              "      <td>...</td>\n",
              "      <td>...</td>\n",
              "      <td>...</td>\n",
              "    </tr>\n",
              "    <tr>\n",
              "      <th>26982297</th>\n",
              "      <td>2420260</td>\n",
              "      <td>1</td>\n",
              "      <td>9210</td>\n",
              "    </tr>\n",
              "    <tr>\n",
              "      <th>26982298</th>\n",
              "      <td>761176</td>\n",
              "      <td>3</td>\n",
              "      <td>9210</td>\n",
              "    </tr>\n",
              "    <tr>\n",
              "      <th>26982299</th>\n",
              "      <td>459277</td>\n",
              "      <td>3</td>\n",
              "      <td>9210</td>\n",
              "    </tr>\n",
              "    <tr>\n",
              "      <th>26982300</th>\n",
              "      <td>2407365</td>\n",
              "      <td>4</td>\n",
              "      <td>9210</td>\n",
              "    </tr>\n",
              "    <tr>\n",
              "      <th>26982301</th>\n",
              "      <td>627867</td>\n",
              "      <td>3</td>\n",
              "      <td>9210</td>\n",
              "    </tr>\n",
              "  </tbody>\n",
              "</table>\n",
              "<p>26977591 rows × 3 columns</p>\n",
              "</div>"
            ],
            "text/plain": [
              "             User  Rating  Movie_id\n",
              "1         2532865       4      4500\n",
              "2          573364       3      4500\n",
              "3         1696725       3      4500\n",
              "4         1253431       3      4500\n",
              "5         1265574       2      4500\n",
              "...           ...     ...       ...\n",
              "26982297  2420260       1      9210\n",
              "26982298   761176       3      9210\n",
              "26982299   459277       3      9210\n",
              "26982300  2407365       4      9210\n",
              "26982301   627867       3      9210\n",
              "\n",
              "[26977591 rows x 3 columns]"
            ]
          },
          "metadata": {
            "tags": []
          },
          "execution_count": 10
        }
      ]
    },
    {
      "cell_type": "code",
      "metadata": {
        "id": "FVWgj4DFs_6A",
        "outputId": "850ab481-3e5f-4108-c5a1-2fe762a44e6d"
      },
      "source": [
        "### 4.\n",
        "\n",
        "df1 = pd.read_csv('netflix-prize-data/combined_data_1_with_movie_id.csv', dtype={'Rating': np.int8, 'Movie_id': np.int16})\n",
        "print(df1.shape)\n",
        "df1.head()"
      ],
      "execution_count": null,
      "outputs": [
        {
          "output_type": "stream",
          "text": [
            "(24053764, 3)\n"
          ],
          "name": "stdout"
        },
        {
          "output_type": "execute_result",
          "data": {
            "text/html": [
              "<div>\n",
              "<style scoped>\n",
              "    .dataframe tbody tr th:only-of-type {\n",
              "        vertical-align: middle;\n",
              "    }\n",
              "\n",
              "    .dataframe tbody tr th {\n",
              "        vertical-align: top;\n",
              "    }\n",
              "\n",
              "    .dataframe thead th {\n",
              "        text-align: right;\n",
              "    }\n",
              "</style>\n",
              "<table border=\"1\" class=\"dataframe\">\n",
              "  <thead>\n",
              "    <tr style=\"text-align: right;\">\n",
              "      <th></th>\n",
              "      <th>User</th>\n",
              "      <th>Rating</th>\n",
              "      <th>Movie_id</th>\n",
              "    </tr>\n",
              "  </thead>\n",
              "  <tbody>\n",
              "    <tr>\n",
              "      <th>0</th>\n",
              "      <td>1488844</td>\n",
              "      <td>3</td>\n",
              "      <td>1</td>\n",
              "    </tr>\n",
              "    <tr>\n",
              "      <th>1</th>\n",
              "      <td>822109</td>\n",
              "      <td>5</td>\n",
              "      <td>1</td>\n",
              "    </tr>\n",
              "    <tr>\n",
              "      <th>2</th>\n",
              "      <td>885013</td>\n",
              "      <td>4</td>\n",
              "      <td>1</td>\n",
              "    </tr>\n",
              "    <tr>\n",
              "      <th>3</th>\n",
              "      <td>30878</td>\n",
              "      <td>4</td>\n",
              "      <td>1</td>\n",
              "    </tr>\n",
              "    <tr>\n",
              "      <th>4</th>\n",
              "      <td>823519</td>\n",
              "      <td>3</td>\n",
              "      <td>1</td>\n",
              "    </tr>\n",
              "  </tbody>\n",
              "</table>\n",
              "</div>"
            ],
            "text/plain": [
              "      User  Rating  Movie_id\n",
              "0  1488844       3         1\n",
              "1   822109       5         1\n",
              "2   885013       4         1\n",
              "3    30878       4         1\n",
              "4   823519       3         1"
            ]
          },
          "metadata": {
            "tags": []
          },
          "execution_count": 12
        }
      ]
    },
    {
      "cell_type": "code",
      "metadata": {
        "id": "p9IuUsqts_6A",
        "outputId": "97147a22-3507-49d6-a9a4-b9dcd9c41835"
      },
      "source": [
        "### 5.\n",
        "\n",
        "df = df1.copy()\n",
        "del df1\n",
        "df = df.append(df2)\n",
        "print(df.shape)"
      ],
      "execution_count": null,
      "outputs": [
        {
          "output_type": "stream",
          "text": [
            "(51031355, 3)\n"
          ],
          "name": "stdout"
        }
      ]
    },
    {
      "cell_type": "markdown",
      "metadata": {
        "id": "lHouBymgs_6B"
      },
      "source": [
        "Chequeamos que estén todas las películas:"
      ]
    },
    {
      "cell_type": "code",
      "metadata": {
        "id": "TpQiT4tws_6B",
        "outputId": "e5a045d3-dd0a-4d18-f38a-b89299880610"
      },
      "source": [
        "peliculas_presentes = df.Movie_id.unique()\n",
        "peliculas_presentes"
      ],
      "execution_count": null,
      "outputs": [
        {
          "output_type": "execute_result",
          "data": {
            "text/plain": [
              "array([   1,    2,    3, ..., 9208, 9209, 9210], dtype=int16)"
            ]
          },
          "metadata": {
            "tags": []
          },
          "execution_count": 14
        }
      ]
    },
    {
      "cell_type": "code",
      "metadata": {
        "id": "nGsEinc6s_6B",
        "outputId": "9a58d6c2-ff64-4fc5-be77-a58056651b68"
      },
      "source": [
        "print((peliculas_presentes - np.arange(1,9210 + 1)).sum())"
      ],
      "execution_count": null,
      "outputs": [
        {
          "output_type": "stream",
          "text": [
            "0\n"
          ],
          "name": "stdout"
        }
      ]
    },
    {
      "cell_type": "markdown",
      "metadata": {
        "id": "W4pQlXI-s_6B"
      },
      "source": [
        "Y guardamos"
      ]
    },
    {
      "cell_type": "code",
      "metadata": {
        "id": "NUGFY6abs_6B"
      },
      "source": [
        "if True:\n",
        "    df.to_csv('netflix-prize-data/combined_data_1y2_with_movie_id.csv', index= False)"
      ],
      "execution_count": null,
      "outputs": []
    },
    {
      "cell_type": "code",
      "metadata": {
        "id": "AQMFda62s_6B"
      },
      "source": [
        ""
      ],
      "execution_count": null,
      "outputs": []
    }
  ]
}