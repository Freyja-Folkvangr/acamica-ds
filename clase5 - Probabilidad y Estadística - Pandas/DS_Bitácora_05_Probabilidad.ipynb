{
 "cells": [
  {
   "cell_type": "markdown",
   "metadata": {
    "id": "GEFRqVgwU4TH"
   },
   "source": [
    "# Probabilidad y Estadística\n",
    "\n",
    "El objetivo del siguiente notebook es afianzar algunos conceptos de Probabilidad y, de paso, empezar a ver cómo se hacen gráficos con Matplotlib, una nueva librería que veremos más en detalle en la próxima bitácora y encuentro. Por ahora, solamente tienen que instalarla y correr las celdas. ¡No te preocupes si no entiendes lo que hacen esas celdas! Lo importante es que prestes atención a sus resultados.\n",
    "\n",
    "## 1. Distribuciones de probabilidad\n",
    "\n",
    "El concepto de distribución de probabilidad es un concepto central en probabilidad y estadística y, por lo tanto, hay mucho para decir. Nos limitamos acá a los puntos más importantes.\n",
    "\n",
    "\n",
    "### 1.1 Distrubución Uniforme Discreta\n",
    "\n",
    "Comencemos por un ejemplo: un dado de seis caras. La probabilidad de que al tirar el dado *salga* una cara es $1/6$. Si graficamos la probabilidad para cada resultado posible de tirar un dado, obtendríamos un gráfico como el siguiente:"
   ]
  },
  {
   "cell_type": "code",
   "execution_count": 1,
   "metadata": {
    "id": "J-fHqWnzU4TR"
   },
   "outputs": [
    {
     "name": "stdout",
     "output_type": "stream",
     "text": [
      "/usr/local/opt/python@3.9/bin/python3.9\n"
     ]
    }
   ],
   "source": [
    "import sys\n",
    "print(sys.executable)\n",
    "import numpy as np\n",
    "import matplotlib.pyplot as plt"
   ]
  },
  {
   "cell_type": "code",
   "execution_count": 2,
   "metadata": {
    "id": "VSbq4R-aU4Tt"
   },
   "outputs": [
    {
     "data": {
      "image/png": "[encoded data removed]",
      "text/plain": [
       "<Figure size 432x288 with 1 Axes>"
      ]
     },
     "metadata": {
      "needs_background": "light"
     },
     "output_type": "display_data"
    }
   ],
   "source": [
    "# los posibles resultados\n",
    "valores = np.arange(1,7)\n",
    "\n",
    "# las probabilidades para graficar\n",
    "probas = np.zeros(6) + 1/6\n",
    "\n",
    "# graficar\n",
    "plt.bar(valores, probas)\n",
    "plt.title('Distribución de probabilidad uniforme: lanzamiento de un dado')\n",
    "# plt.savefig('distribucion_dado.png', dpi = 400)\n",
    "plt.show()"
   ]
  },
  {
   "cell_type": "markdown",
   "metadata": {
    "id": "Hl-vXlaCU4T_"
   },
   "source": [
    "En este caso, decimos que la distribución de probabilidad es *uniforme discreta*, ya que le asigna la misma probabilidad a los seis valores que pueden salir al tirar el dado. Si el dado estuviera cargado, ya no sería uniforme.\n",
    "\n",
    "**Algunos detalles**:\n",
    "1. El resultado de tirar un dado es un ejemplo de una *variable aleatoria*.\n",
    "2. En el caso del dado, la variable aleatoria puede tomar valores *discretos* y *acotados* (limitados): 1, 2, 3, 4, 5 y 6\n",
    "3. Existen variables aleatorias donde los posibles valores que puede tomar son continuos y no acotados. Veremos la distribución más famosa de ellas a continuación."
   ]
  },
  {
   "cell_type": "markdown",
   "metadata": {
    "id": "mIXL9A1yU4UE"
   },
   "source": [
    "### 1.2 Distribución Normal o Gaussiana\n",
    "\n",
    "La distribución normal o gaussiana debe ser la distribución más famosa dentro de las distribuciones. Es una distribución de variable continua y aparece en una infinidad de ámbitos de la ciencia. Muchas variables asociadas a fenómenos naturales siguen una distribución gaussiana; un ejemplo típico es la estatura de las personas. La forma que tiene esta distribución está dada por la siguiente fórmula:\n",
    "\n",
    "$$f(x|\\mu, \\sigma^2)=\\frac{1}{\\sqrt{2 \\pi \\sigma^2}}e^{\\frac{-(x - \\mu)^2}{2\\sigma^2}}$$\n",
    "\n",
    "¡No te asustes si no la entiendes! Durante el encuentro, veremos más en detalle algunos aspectos de esta distribución. Pero es importante resaltar que tiene sólo dos parámetros: su valor medio $\\mu$ y su desviacíon estándar $\\sigma$. Estos valores son *teóricos*, es decir, son propios de la distribución de probabilidad. \n",
    "\n",
    "Recomendamos entrar en la página de Wikipedia de la [Distribución Normal](https://es.wikipedia.org/wiki/Distribuci%C3%B3n_normal) y prestar atención al primer gráfico - dónde podrán ver la forma teórica de la distribución - y a la sección \"Propiedades\".\n",
    "\n",
    "\n",
    "**Distribución Normal en NumPy**\n",
    "\n",
    "Como mencionamos en el encuentro anterior, NumPy nos provee de herramientas para generar valores aleatorios de distribuciones. A continuación generamos, usando `np.random.normal()`, muestras de dos distribuciones normales, con el mismo valor medio pero distinta desviación estándar. **Consultar** la ayuda de la función para entender bien qué hace."
   ]
  },
  {
   "cell_type": "code",
   "execution_count": 3,
   "metadata": {
    "id": "mnQ6ZwhAU4UJ",
    "scrolled": true
   },
   "outputs": [
    {
     "name": "stdout",
     "output_type": "stream",
     "text": [
      "[ -0.69770359   9.39632708  11.77358634   4.65051682  -1.03902609\n",
      "   8.05807068   6.78974435   6.2772173    4.35429443  -4.90075479\n",
      "  -2.81132279   2.90941635  -5.43940168   2.99304086  10.35097829\n",
      "  -4.06785992  -5.28825835   3.40257588   6.68855056   2.63063539\n",
      "   7.00530774   8.54592456  -5.38898652   2.65775992   4.83737595\n",
      "   4.05759288  10.98058493   4.39422492   1.53089776   7.41114399\n",
      "   0.82943137  -0.57053854  -0.38968736   6.92761689   0.52131926\n",
      "  -6.8896345    2.78620673   3.39354211  -2.26332558  -3.62612111\n",
      "   6.50082617   3.34622938   3.74282833  -8.66072323   4.20101391\n",
      "   6.05518612   4.88390325   1.35290335  -3.73804836  15.63761645\n",
      "   8.57872497   3.24507874  -2.8439451   -4.76627334  -3.37207525\n",
      "  -2.47284011   6.58528671  -1.77311258   2.47790385   2.01604511\n",
      "  -1.32429385  -3.62471428  -3.57279187  -1.32938319  11.57791265\n",
      "   2.39763504  -4.84590649   2.18711471  -8.37773502  13.99615316\n",
      "   1.81499355  -5.32461286   0.99756061  12.02261491   2.07023448\n",
      "   3.59800194   1.63386076  -4.67750898  -2.31060143   3.60434308\n",
      "   4.18035548  -2.37193222  -0.80532121  -6.69895186   4.65272869\n",
      "  -4.7075044   -1.08677657  -6.1081023   -0.66120311  -2.54026657\n",
      "   1.23488429  -2.35565138   1.80352657   8.52087129   1.309707\n",
      "   1.84054345   9.24961913   7.29050813   1.30431828   4.83353707\n",
      "  13.33380613  -9.42653816   3.1553247    0.78183699  -0.3310595\n",
      "  -8.33067134  -1.31620987   5.707601     1.17795353  10.49522082\n",
      "  -0.76754231   7.26907659   1.37082859  12.24170203   6.50415986\n",
      "  -5.14140174  -1.24906791  -6.60710404   4.82229483  -3.54342074\n",
      "   2.69095123   7.2792845   -0.12914419   3.00780944   1.20340708\n",
      "  -0.24932097   9.181574     0.91375499   5.95984093   4.94824499\n",
      "  -1.13772356   8.62794272  -7.90983578  -1.84880635   0.0632207\n",
      "   2.02438215   7.08310307   4.59756699   1.79214044   1.36023611\n",
      "  -7.22927648   3.61987581  -3.05422426  -0.57433337   0.1385276\n",
      "   2.90035562  -1.94740362  -0.52510415   8.05605589 -11.56566294\n",
      "   4.41724981   0.64296197  -0.60650897   5.91940323   1.34353886\n",
      "  -4.78096666   3.8560929    3.19216037   5.87987661   1.44843262\n",
      "   2.11055953   1.32024067   4.75180706   1.47713688  -3.16940689\n",
      "  -1.60225253   9.04954606   0.2932541    3.64673111  -2.41177835\n",
      "   7.49162571   2.01804439   2.40991345  -2.38675309  -2.13139045\n",
      "   0.48060027  13.31041436   0.62404182  -1.67295177   5.97561535\n",
      "   2.23874878   7.91903655  -4.56522042  -2.40815936   2.10601177\n",
      "   3.40307161  10.07408549  -5.17087739   3.96346883   8.84087511\n",
      "  -4.27092114   2.48608892  -1.41618625  10.89208471   3.40058725\n",
      "  -2.59915371   5.51142791   6.41084305  -5.93964688  -2.72774543\n",
      "  -3.33107193   4.42925952  -3.17485312   1.08619728  -3.3072533\n",
      "   2.09591549   6.11085925   1.8032492   -4.7644241    2.99132008\n",
      "  -0.3804983   -4.4062932    2.28349271  -0.0197803   18.13732537\n",
      "   2.12794431  -1.40654922   4.25119218  -2.03484769   9.16410411\n",
      "   7.81106205   1.94482765   8.30352026   0.54256338   4.90846693\n",
      "   7.51053145  -0.50876715   1.80601498   0.11289145  -3.72847058\n",
      "   2.65353989   2.24131796   9.92559709   0.92720086  -0.3034922\n",
      "   4.7003748   -3.44387889  10.53039679   2.53161958   5.75011948\n",
      "  10.82193514   5.70605584  -2.0691513   11.38517655   3.71015426\n",
      "  -4.88010684   1.73638199   0.7172973   -2.90496201  -0.10407376\n",
      "   9.23242113  14.6633559    3.03348448   1.1554852   -0.96756232\n",
      "   0.99817772   1.8973628    7.20430869   2.19387682   4.62557814\n",
      "   2.01510368  -0.39875831  -2.43332927  11.4062849    2.91109639\n",
      "  -0.99243092   3.29224884   1.15827922  -4.5591953    0.62098099\n",
      "   2.60112082  -6.08785165  -0.51874913   4.10634562  -2.60586136\n",
      "   6.16061036   2.45519562   1.5991984    5.01604459  -2.66319627\n",
      "  10.54158748  -3.28870486   3.29529759   2.30584781  -5.26146918\n",
      "   7.75014162   4.82208843  -0.44882288  -8.24197819  -3.5528463\n",
      "   2.99640552  -0.51375107   1.46474295   7.83867394  -3.67191247\n",
      "   6.13521184  -6.36359921  -2.98979217   2.23690091  -3.65004218\n",
      "   3.6564571    3.20930306   1.13895536  11.52756788  -5.98767009\n",
      "  -0.05547762  -1.87424295   2.80675244  -0.36372809  -1.04234194\n",
      "   5.97466161   1.88287617   1.01172015  -0.9604128    2.64309835\n",
      "   0.69103491 -10.54720387   2.05853526  -0.20729109  -0.95966353\n",
      "   2.42362984  -0.86968747   5.38700372  -5.46234368   4.70481097\n",
      "  10.42571344   7.28144203   1.09735286   4.43973616  -2.47731576\n",
      "   7.10446126  -0.34083149  -2.5514061   14.4812197    5.00107161\n",
      "   9.3336296   -3.27306237   7.77183093  -4.62033562   5.69972948\n",
      "  -5.94274444   1.32841027   1.59970267  -3.56490906   3.68182749\n",
      "   0.50427796   0.90244328  -1.51225496   2.84356892   0.09712905\n",
      "   4.09278565   1.24273613   0.14173734   3.69001835  -5.21799044\n",
      "   0.23327245   6.60276371  -0.99479427   4.26139882   0.16238569\n",
      "  -0.76997706  -1.72873552   2.53023172   6.25687238  -1.75476887\n",
      "   0.93619881   1.91376294   4.86039629   4.84384556   1.93860714\n",
      "   5.86596395   2.90198697  10.76806593  -3.82650587   2.97440596\n",
      "  10.49776017   6.02349479  12.36989879  -2.28286581   6.86509436\n",
      "  -2.67615351   1.52928531  -1.86185827   4.79543192   2.87463922\n",
      "  -0.07668595   3.3445452    2.2408041    4.05404227   1.24603831\n",
      "   1.99233266   1.55069205  -0.07468618   1.62339892   3.19226112\n",
      "   8.50550637   1.21540787  -0.45653124   0.84314265  -3.75166227] [-1.22769137  3.52297119 -1.34851172  2.48569975 -0.55569294  0.11864187\n",
      "  1.43266418  1.75491722  0.80539082  2.55266068  5.26686238  1.43791901\n",
      "  2.90203355  2.99691557  3.04123133  0.74570696  1.3207268   1.98404699\n",
      "  1.75786461  2.03078683  2.62483892 -1.61431133  1.8724325   1.35418798\n",
      " -2.18524559  3.48314156  3.80740325  2.62888884  4.6165181   1.48307082\n",
      "  2.20342199  5.1396527   3.43985655  3.9344354   1.07345271  1.98560771\n",
      "  0.93483189  0.61315932  4.805495    3.56954015 -0.05668233  5.90261735\n",
      "  3.16283341  2.86143433  3.43557528  0.28005435  1.59259858  1.79190973\n",
      "  3.60088335  2.95328763 -0.97409106  1.64654655  1.87163687  0.33238272\n",
      "  0.90827279  4.32568816  1.61478966 -0.04504418 -1.20437105  0.94920607\n",
      "  0.9494459   1.7224164  -0.52528406  3.18647799  3.68175701 -0.34551507\n",
      "  4.75151654  4.47509753  0.68047392  0.30811418  2.1029214   0.74721492\n",
      " -1.26592588  1.25409774  1.44659994  5.41724941  0.8691969   4.74108677\n",
      "  0.8764452   3.62627217  1.31375773  2.65944725  3.78947356  0.55107694\n",
      "  2.44933732  1.23171487  0.49394685  2.63701991  2.97307398  0.62048628\n",
      " -1.25653725 -0.07451282  2.11354448  1.92338568  2.57391233  0.187323\n",
      "  2.60865017  0.64373627  2.09373557  1.5189608   5.45427257  3.29353582\n",
      "  1.64932273  3.85683393  0.51570052  4.11853244  1.86699694  3.36777025\n",
      "  1.49093372  4.3434567   0.66625011  3.96891783  1.64405237  3.93997261\n",
      "  0.60896909  3.52867821  5.12251444  3.79256891  1.6206999   1.62551457\n",
      "  1.33702404 -0.74612834  3.35623747  1.28615518  3.69084155 -0.01978189\n",
      "  2.76038621  0.46477004  1.70754476  1.30363101  1.25715943 -0.18762058\n",
      "  1.02778704  5.87885558  4.66665041  2.57956372  4.51469776  2.44989607\n",
      " -0.16932265  1.35492304  2.89999893 -0.60657195  2.14910032  1.287712\n",
      "  2.29491719 -0.77362205  3.52601791  2.4587725   3.41910624  1.22346784\n",
      "  3.69423637  2.94133881  1.22934894  1.99717713  1.97753891  3.69798479\n",
      "  0.18269426  2.75202643  3.56862197  0.42860287  1.24598048  1.86408179\n",
      "  4.25535808  1.79205209 -0.64602849  0.78911705  2.56830588  5.39750863\n",
      "  6.51313095  3.55416039  2.33310083 -1.64343175  3.10765589  0.24776194\n",
      "  2.71635371  2.6999379  -0.52890697  2.64580182  2.32889114  1.67027382\n",
      "  3.31560535  1.45159382 -0.6738153   2.27993763  0.2486547   1.06196223\n",
      "  1.38472796 -0.08005388  1.89423192  1.8280032   4.6782703   5.63757445\n",
      "  6.49603517 -0.78744715  1.97560463  3.14474631  3.21201716  0.96882546\n",
      "  3.90898981 -0.13890275  0.43800479  5.84330267  1.98402348  3.73325652\n",
      "  6.24331421  4.18875899  2.97749069  3.0574282   1.35973544  3.81676219\n",
      "  0.70820737  3.42629162  1.39040821  1.04145392  3.30577264  4.76501812\n",
      "  1.84166029 -0.5886062   2.50392004  0.32354576  1.65999286  3.45133384\n",
      "  2.930304    5.95769016  1.90128039  0.35597262 -1.81603438  2.68232257\n",
      "  4.09516762 -0.70095064  1.22947764  1.07305506  1.48406516  1.86334597\n",
      "  2.73236984  3.75894406  4.60806252  0.82740192  2.34486508 -0.2465624\n",
      "  3.35643248 -1.03289017  0.16631263  0.99889467  3.80638985  2.94970191\n",
      "  4.23815066  1.61117105  1.07823691  4.85666737  4.99247299  1.17083784\n",
      "  2.65587773  0.29297848  2.85245022  0.19672334  1.3813554   6.752004\n",
      "  5.22700732  1.17294392  2.73031928  3.71724469  3.72431072  2.82998189\n",
      "  3.23217745  4.04863561  1.12301238  0.42664001 -0.06949079  4.67545794\n",
      "  1.75670062 -1.18921062 -0.89888339  1.24563624  1.73019327  2.80392161\n",
      "  4.38286888  0.43743204  2.51566447  4.17959019  6.4596664   0.87261813\n",
      "  3.44152425  0.48239317  1.68672059  7.42116748  0.4471512   5.17489802\n",
      "  1.70692448  4.44779882  2.77724833  0.41998859  2.22288055 -1.16821722\n",
      " -0.90216014  2.19250445  0.28438986  2.51635077 -1.58132267  1.38482832\n",
      "  2.48830547  2.51547805 -0.525315    4.2484638   1.66985363  3.02456237\n",
      "  3.36768639  2.50358624 -0.08176768  0.22668278  0.06066693  5.56475467\n",
      "  3.63342872  1.56912656  1.10513129  1.90391339  3.44556313  2.13983344\n",
      "  4.75210101 -0.13562062  0.37497189  1.63981121  3.11946796  0.4331003\n",
      "  0.64819426  3.58770985  2.6257967   1.79714702  0.68236497  2.06329687\n",
      "  2.0161575  -0.39163971  0.08770658  4.13180197  2.10878287  1.94508915\n",
      "  2.82627217  1.83754253  4.31228452  3.48789771  3.11821963 -1.0513393\n",
      "  2.06436973  3.23020926  0.96378847 -1.83953793  0.63372141 -0.32836009\n",
      "  1.25147506  1.22719804  1.53162973  1.57761705  5.15225718  3.46925859\n",
      "  3.04464123 -1.57166946  4.59841419  0.28877084 -2.02359172  2.64911034\n",
      "  0.11243301  3.29215436  3.58041379  1.71233625 -2.12674146  0.17556104\n",
      "  2.73220645  3.30221764  2.00467361  2.9246177   1.00396178  1.46268009\n",
      "  2.43069683 -0.36787333  2.49911501  1.71755464  4.80867144  4.5797104\n",
      "  4.92452923 -0.02168681  6.9198446   1.95603284  2.98890634  3.79273927\n",
      "  3.02413701  1.69104782  2.7829822   4.90482726 -0.85643333 -1.41520461\n",
      "  0.4790888  -0.51271068 -1.80777737  0.57724945  4.20589953  5.46240679\n",
      "  3.17882083  3.21508158  1.7272543   0.40173026]\n"
     ]
    }
   ],
   "source": [
    "mu = 2.0\n",
    "sigma_1 = 5.0\n",
    "sigma_2 = 2.0\n",
    "muestras_1 = np.random.normal(loc = mu, scale = sigma_1, size = 400)\n",
    "muestras_2 = np.random.normal(loc = mu, scale = sigma_2, size = 400)\n",
    "print(muestras_1, muestras_2)"
   ]
  },
  {
   "cell_type": "markdown",
   "metadata": {
    "id": "OHFxZhG0U4Ub"
   },
   "source": [
    "Notar que son dos \"tiras\" de números, bastante largas y que a simple vista no nos dicen mucho. Mejor, podemos graficar su histograma. Veremos bien qué es un histograma en la próxima bitácora. Por ahora, basta saber que es una forma de visualizar cómo está distribuida una tira de números. Lo que hace es tomar un número determinado de intervalos (`bins = 20`) y contar cuántas muestras caen en cada intervalo."
   ]
  },
  {
   "cell_type": "code",
   "execution_count": 4,
   "metadata": {
    "id": "4nu_9GbwU4Uf"
   },
   "outputs": [
    {
     "data": {
      "image/png": "[encoded data removed]",
      "text/plain": [
       "<Figure size 432x288 with 1 Axes>"
      ]
     },
     "metadata": {
      "needs_background": "light"
     },
     "output_type": "display_data"
    }
   ],
   "source": [
    "plt.hist(muestras_1, bins = 20, alpha = 0.5, label = 'Histrograma Muestra 1')\n",
    "plt.hist(muestras_2, bins = 20, alpha = 0.5, label = 'Histrograma Muestra 2')\n",
    "plt.legend()\n",
    "plt.grid()\n",
    "plt.show()"
   ]
  },
  {
   "cell_type": "markdown",
   "metadata": {
    "id": "_Ez12LcZU4Uu"
   },
   "source": [
    "**Ejercicio:** Volver a \"generar\" las muestas y hacer sus histogramas. ¿Cambió?¿Por qué? Googlear que es una *semilla* (`seed`) en NumPy e implementar. También, cambiar la cantidad de muestras, modificando el argumento `size`. \n",
    "\n",
    "### 1.3 Relación entre Probabilidad y Estadística\n",
    "\n",
    "**Promedio y desviación estándar en una distribución Normal**\n",
    "\n",
    "En una distribución normal, el promedio de las muestras obtenidas *tiende* al valor medio $\\mu$ de la distribución, y la desviación estándar *tiende* a la desviacíon estándar $\\sigma$ de la distribución. Notar, entonces, que existen valores calculados (promedio, desviación estándar) y valores teóricos ($\\mu$ y $\\sigma$). Confundirlos entre sí es un error común.\n",
    "\n",
    "Veamos un ejemplo. Nuevamente, obtenemos muestras de una distribución normal:"
   ]
  },
  {
   "cell_type": "code",
   "execution_count": 5,
   "metadata": {
    "id": "55UHxgsWU4Uy"
   },
   "outputs": [],
   "source": [
    "mu = 8.5\n",
    "sigma = 3.0\n",
    "muestras = np.random.normal(loc = mu, scale = sigma, size = 100)"
   ]
  },
  {
   "cell_type": "markdown",
   "metadata": {
    "id": "IrLpnkqqU4U9"
   },
   "source": [
    "Y calculamos su promedio y desviación estándar, y comparamos con $\\mu$ y $\\sigma$."
   ]
  },
  {
   "cell_type": "code",
   "execution_count": 6,
   "metadata": {
    "id": "k1JKKz5eU4VC"
   },
   "outputs": [
    {
     "name": "stdout",
     "output_type": "stream",
     "text": [
      "Valor medio teorico: 8.5 . Valor medio calculado: 7.963303321807251\n",
      "Desviacion estandar teorica: 3.0 . Desviacion estandar calculada: 2.8132821674624537\n"
     ]
    }
   ],
   "source": [
    "print('Valor medio teorico:', mu, '. Valor medio calculado:', muestras.mean())\n",
    "print('Desviacion estandar teorica:', sigma, '. Desviacion estandar calculada:', muestras.std())"
   ]
  },
  {
   "cell_type": "markdown",
   "metadata": {
    "id": "YqQs6D_YU4VQ"
   },
   "source": [
    "Comparemos el histograma de las muestras y la distribución teórica, que graficaremos haciendo uso de la librería `SciPy`:"
   ]
  },
  {
   "cell_type": "code",
   "execution_count": 7,
   "metadata": {
    "id": "bf31AbLMU4VU"
   },
   "outputs": [
    {
     "data": {
      "image/png": "[encoded data removed]",
      "text/plain": [
       "<Figure size 432x288 with 1 Axes>"
      ]
     },
     "metadata": {
      "needs_background": "light"
     },
     "output_type": "display_data"
    }
   ],
   "source": [
    "from scipy.stats import norm\n",
    "\n",
    "plt.hist(muestras, bins=20, density=True, alpha=0.6, color='g')\n",
    "\n",
    "xmin, xmax = plt.xlim()\n",
    "x = np.linspace(xmin, xmax, 100)\n",
    "p = norm.pdf(x, mu, sigma)\n",
    "plt.plot(x, p, 'k', linewidth=2, label = 'Distribución Teórica')\n",
    "\n",
    "title = \"Muestras obtenidas de una distribución normal con mu = %.2f,  sigma = %.2f\" % (mu, sigma)\n",
    "\n",
    "plt.title(title)\n",
    "plt.legend()\n",
    "plt.show()"
   ]
  },
  {
   "cell_type": "markdown",
   "metadata": {
    "id": "RTOjCCEQU4Vi"
   },
   "source": [
    "**Nota:** si estás atento/a a la escala en el eje *y*, notarás que es distinta a la escala de los histogramas anteriores. Esto se debe a que, en un histograma, además de graficar la cantidad de muestras que entran en cada intervalo, podemos también graficar la **proporción** de muestras que entran en cada intervalo.\n",
    "\n",
    "**Para pensar y probar:** \n",
    "1. ¿Por qué no coinciden $\\mu$ y $\\sigma$ con los valores calculados?¿Qué podemos hacer para que se parezcan cada vez más?¿Y qué ocurre en ese caso con el histograma y la distribución teórica?\n",
    "2. Con respecto al ejercicio que acabamos de hacer, ¿cuáles son los *parámetros* asociados al mundo de las probabilidades y cuáles son los *valores estadísticos* asociados al mundo de la estadística?\n",
    "\n",
    "\n",
    "### Ejercitación\n",
    " \n",
    "Los siguientes ejercicios pueden parecer muy difíciles, pero te aseguramos que no lo son tanto. ¡Lo importante es que los intentes!\n",
    "\n",
    "**Ejercicio 1 - Challenge:** Muchos juegos de mesa requieren tirar dados y sumar sus resultados. Por ejemplo, el [Catán](https://es.wikipedia.org/wiki/Los_Colonos_de_Cat%C3%A1n). Es evidente que, mientras en un dado la probabilidad de que salga cada cara es la misma, en esta variable aleatoria todos los resultados no son igual de probables (¿Cuáles son los posibles resultados?). Entonces, para mejorar tu estrategia en estos juegos, es útil saber cuál es la probabilidad asociada a cada resultado. Para ello, debes calcular su distribución de probabilidad. Entonces, \n",
    "\n",
    "Obtener la distribución de la variable aleatoria *suma del resultado de tirar dos dados*. Para ello puedes intentar alguna o ambas de las siguientes opciones:\n",
    "1. **Obtener la distribución teórica:** para ello, basta contar los casos *a mano* con lápiz y papel. Por ejemplo:\n",
    "    1. Uno (1) es un resultado imposible\n",
    "    2. Dos (2) solamente puede ser obtenida con ambos dados en 1, 1 + 1\n",
    "    3. Tres (3) tiene dos opciones, 2 + 1 y 1 + 2\n",
    "    4. Cuatro (4) tiene tres opciones: 3 + 1, 2 + 2, 1 + 3\n",
    "    \n",
    "    y así para el resto de los posibles resultados. Completa la lista hasta el 12 y cuenta cuántas combinaciones existen para cada resultado. ¿Cuántos combinaciones debe haber en total, teniendo en cuenta que cada dado tiene seis caras? Al final, debes llevarlos a porcentaje. Por ejemplo, si en total son 100 posibles combinaciones, y el 12 tiene 10 posibles combinaciones, su probabilidad es 10/100 = 0.1\n",
    "    \n",
    "2. **Simular y obtener una distribución aproximada:** otra opción es simular esta situación. Viste en el notebook de la bitácora anterior cómo simular un dado. Ahora simula dos dados y obtiene la suma de sus resultados.\n",
    "\n",
    "¿Te animas a comparar ambos métodos?"
   ]
  },
  {
   "cell_type": "code",
   "execution_count": 8,
   "metadata": {
    "id": "327V3n7oU4Vm"
   },
   "outputs": [
    {
     "ename": "SyntaxError",
     "evalue": "invalid syntax (<ipython-input-8-21d8ead59414>, line 5)",
     "output_type": "error",
     "traceback": [
      "\u001b[0;36m  File \u001b[0;32m\"<ipython-input-8-21d8ead59414>\"\u001b[0;36m, line \u001b[0;32m5\u001b[0m\n\u001b[0;31m    suma = # COMPLETAR\u001b[0m\n\u001b[0m           ^\u001b[0m\n\u001b[0;31mSyntaxError\u001b[0m\u001b[0;31m:\u001b[0m invalid syntax\n"
     ]
    }
   ],
   "source": [
    "# COMPLETAR: UNA LINEA DE CODIGO \n",
    "# COMPLETAR: OTRA LINEA DE CODIGO \n",
    "# el numero de bins se determina como la raiz cubica \n",
    "\n",
    "suma = # COMPLETAR\n",
    "\n",
    "plt.hist(suma, bins = np.arange(1.5,13.5,1), density=True, rwidth = 0.8,)\n",
    "plt.show()"
   ]
  },
  {
   "cell_type": "markdown",
   "metadata": {
    "id": "EkNiPekCU4V0"
   },
   "source": [
    "**Ejercicio 2:** Obtiene, simulando, la distribución de la variable aleatoria *máximo valor obtenido al tirar dos dados.* Por ejemplo, si obtenemos 2 y 5, el resultado es 5. Nuevamente, si lo deseas, también puedes contar casos y obtener la distribución teórica."
   ]
  },
  {
   "cell_type": "code",
   "execution_count": null,
   "metadata": {
    "id": "tzyvWre3U4V4"
   },
   "outputs": [],
   "source": [
    "# COMPLETAR: UNA LINEA DE CODIGO \n",
    "# COMPLETAR: OTRA LINEA DE CODIGO \n",
    "\n",
    "'''Combinamos las muestras obtenidas en un arreglo de dos filas, donde\n",
    "cada columna corresponde a una tirada'''\n",
    "muestras = np.array([COMPLETAR,COMPLETAR])\n",
    "print(muestras.shape)\n",
    "\n",
    "\n",
    "'''Obtenemos el máximo de cada tirada. Recordar obtener el máximo\n",
    "en el eje (axis) correspondiente'''\n",
    "maximos = np.max(COMPLETAR, axis = COMPLETAR)\n",
    "\n",
    "plt.hist(COMPLETAR, bins = np.arange(0.5,7.5,1), density=True, rwidth = 0.8)\n",
    "plt.show()"
   ]
  },
  {
   "cell_type": "markdown",
   "metadata": {
    "id": "Iu_y4bliU4WK"
   },
   "source": [
    "## 2. Correlación\n",
    "\n",
    "El objetivo de esta sección es que te familiarices con los conceptos de **Covarianza** y **Correlación**. Si bien las fórmulas parecen difíciles, esperemos que veas que nada es tan grave como parece. También que prestes atención a cómo a veces es útil simular datos para aprender o acercarse a algunas técnicas.\n",
    "\n",
    "Tenemos dos variables aleatorias $X$ e $Y$, de las cuales tenemos $n$ muestras de cada una, $x_1,x_2,..., x_n$ e $y_1,y_2,..., y_n$. Sus valores medios son $\\bar{x}$ e $\\bar{y}$, respectivamente. Definimos la Covarianza como\n",
    "\n",
    "$$Cov(X,Y) = \\sum_{i=1}^{n} \\frac{(x_i - \\bar{x})(y_i - \\bar{y})}{n}$$\n",
    "\n",
    "A veces verás que, en lugar de dividir por $n$, se divide por $n - 1$ ó $n - 2$, pero eso no es importante ahora. Según Wikipedia, \"la covarianza es un valor que indica el grado de variación conjunta de dos variables aleatorias respecto a sus medias. Es el dato básico para determinar si existe una dependencia entre ambas variables y además es el dato necesario para estimar otros parámetros básicos, como el coeficiente de correlación lineal o la recta de regresión.\". \n",
    "\n",
    "Si bien la fórmula puede parecer difícil, veamos qué nos dice de nuestros datos simulando algunos casos sencillos.\n",
    "\n",
    "Empezamos generandos muestras al azar de dos variables aleatorias no relacionadas entre sí. "
   ]
  },
  {
   "cell_type": "code",
   "execution_count": null,
   "metadata": {
    "id": "q66jDC_IU4WO"
   },
   "outputs": [],
   "source": [
    "import matplotlib.pyplot as plt\n",
    "import numpy as np"
   ]
  },
  {
   "cell_type": "code",
   "execution_count": null,
   "metadata": {
    "id": "dWwL1LZ7U4Wa"
   },
   "outputs": [],
   "source": [
    "n = 1000\n",
    "sigma_1 = 2\n",
    "sigma_2 = 20\n",
    "x = np.random.normal(size = n, scale = sigma_1)\n",
    "y = np.random.normal(size = n, scale = sigma_2)\n",
    "\n",
    "# Graficamos\n",
    "plt.scatter(x, y)\n",
    "plt.grid()\n",
    "plt.xlim([-60,60])\n",
    "plt.ylim([-60,60])\n",
    "plt.show()"
   ]
  },
  {
   "cell_type": "markdown",
   "metadata": {
    "id": "w44BW3CCU4Wl"
   },
   "source": [
    "¿Hay alguna relación entre ellos? Por relación nos referimos a \"variación conjunta\". Y por \"variación conjunta\" podemos imaginarnos que si una de las variables aumenta, la otra también lo hace. Y si una variable disminuye su valor, la otra también lo hace. La covarianza intenta cuantificar esa relación."
   ]
  },
  {
   "cell_type": "code",
   "execution_count": null,
   "metadata": {
    "id": "3wX-H3y-U4Wo"
   },
   "outputs": [],
   "source": [
    "cov = np.sum((x - x.mean())*(y - y.mean()))/x.size\n",
    "print(cov)"
   ]
  },
  {
   "cell_type": "markdown",
   "metadata": {
    "id": "zzbRb7kmU4W0"
   },
   "source": [
    "La covarianza, sin embargo, tiene un pequeño problema: depende de la escala de nuestros datos. Entonces, para deshacernos de la escala, se puede definir la Correlación, que no es otra cosa que la covarianza dividida la desviación estándar de cada variable aletaria.\n",
    "\n",
    "$$Corr(X,Y) = \\frac{Cov(X,Y)}{\\sigma_X \\sigma_Y}$$"
   ]
  },
  {
   "cell_type": "code",
   "execution_count": null,
   "metadata": {
    "id": "wW2-EG20U4W2"
   },
   "outputs": [],
   "source": [
    "corr = cov/(x.std()*y.std())\n",
    "print(corr)"
   ]
  },
  {
   "cell_type": "markdown",
   "metadata": {
    "id": "UHClidVeU4XC"
   },
   "source": [
    "Y con eso nos deshacemos de la escala. Un valor cercano a cero nos indica que no existe una relación (¿lineal?) entre las variables.\n",
    "\n",
    "**Probar** con distintas escalas (modificando `sigma_1` y `sigma_2`) y verán que `cov` tomará valores en un rango muy amplio, mientras que `corr` se mantendrá cercana a cero.\n",
    "\n",
    "### 2.1 Relación lineal\n",
    "\n",
    "Veamos otro ejemplo: sabemos que existe una relación lineal entre $X$ e $Y$, es decir, podemos aproximar $Y =aX+b$, donde $a$ y $b$ son la pendiente y la ordenada al origen."
   ]
  },
  {
   "cell_type": "code",
   "execution_count": null,
   "metadata": {
    "id": "JV0TUTcCU4XE"
   },
   "outputs": [],
   "source": [
    "n = 100\n",
    "x = np.linspace(-1,1,n) + 0.25*np.random.normal(size = n)\n",
    "y = 4.5*x + 0.25*np.random.normal(size = n)\n",
    "\n",
    "# Graficamos\n",
    "plt.scatter(x, y)\n",
    "plt.grid()\n",
    "plt.show()"
   ]
  },
  {
   "cell_type": "markdown",
   "metadata": {
    "id": "SpN-9JFmU4XM"
   },
   "source": [
    "La covarianza nos da"
   ]
  },
  {
   "cell_type": "code",
   "execution_count": null,
   "metadata": {
    "id": "LEzzOeFtU4XR"
   },
   "outputs": [],
   "source": [
    "cov = np.sum((x - x.mean())*(y - y.mean()))/x.size\n",
    "print(cov)"
   ]
  },
  {
   "cell_type": "code",
   "execution_count": null,
   "metadata": {
    "id": "ofbVUp7xU4Xa"
   },
   "outputs": [],
   "source": [
    "corr = cov/(x.std()*y.std())\n",
    "corr"
   ]
  },
  {
   "cell_type": "markdown",
   "metadata": {
    "id": "3O19qjolU4Xi"
   },
   "source": [
    "Ahora, en cambio, el valor es cercano a uno, indicando una relación lineal creciente entre ambas variables.\n",
    "\n",
    "**Probar** cambiando la pendiente de la función lineal (el número que multiplica a `x` en `y = ...`) y mirar qué pasa. ¿Qué pasa si la pendiente es negativa?"
   ]
  },
  {
   "cell_type": "markdown",
   "metadata": {
    "id": "vjgjstKaU4Xm"
   },
   "source": [
    "#### Conclusiones\n",
    "\n",
    "1. La covarianza es una medida de la variación conjunta de dos variables. Pero tiene un problema: depende de la escala.\n",
    "2. Para \"deshacernos\" de la escala, definimos la correlación, que es simplemente la covarianza dividida por el producto de la desviación estándar de cada variable. **Para pensar:** ¿por qué la desviación estándar está asociada a la escala de una variable?\n",
    "3. La correlación es un valor entre -1 y 1. La correlación toma un valor cercano a uno cuando hay una relación lineal creciente entre las variables, cero cuando no hay relación y -1 cuando hay una relación lineal decreciente.\n",
    "4. Esta correlación tiene un nombre particular: **Correlación de Pearson**."
   ]
  },
  {
   "cell_type": "markdown",
   "metadata": {
    "id": "piVs0Av1U4Xp"
   },
   "source": [
    "### 2.2 Covarianza y Correlación con NumPy\n",
    "\n",
    "**Esta sección es opcional**\n",
    "\n",
    "NumPy ya tiene incorporadas funciones que calculan la covarianza y la correlación entre dos variables. La única diferencia es que, en lugar de devolver un único valor, devuelve cuatro valores, que corresponden a la covarianza/correlación entre $X$ con $X$, $X$ con $Y$, $Y$ con $X$, e $Y$ con $Y$. ¿Por qué, en la correlación, algunos valores son exactamente uno (1.)?"
   ]
  },
  {
   "cell_type": "code",
   "execution_count": null,
   "metadata": {
    "id": "frlmIIkKU4Xr"
   },
   "outputs": [],
   "source": [
    "np.cov([x,y])"
   ]
  },
  {
   "cell_type": "code",
   "execution_count": null,
   "metadata": {
    "id": "AWJOKo6sU4Xz"
   },
   "outputs": [],
   "source": [
    "np.corrcoef([x,y])"
   ]
  },
  {
   "cell_type": "markdown",
   "metadata": {
    "id": "MyrooOHbU4X8"
   },
   "source": [
    "### 2.3 Relación No-Lineal entre variables\n",
    "\n",
    "**Esta sección es opcional, pero recomendamos leerla**\n",
    "\n",
    "¿Qué ocurre cuando la relación no es lineal entre las variables? Veámoslo con un ejemplo.\n"
   ]
  },
  {
   "cell_type": "code",
   "execution_count": null,
   "metadata": {
    "id": "iW2lL_d8U4X-"
   },
   "outputs": [],
   "source": [
    "n = 1000\n",
    "x = np.linspace(-5,5,n) + 0.25*np.random.normal(size = n)\n",
    "y = x**2 + 0.25*np.random.normal(size = n)\n",
    "\n",
    "# Graficamos\n",
    "plt.scatter(x, y)\n",
    "plt.grid()\n",
    "plt.show()"
   ]
  },
  {
   "cell_type": "markdown",
   "metadata": {
    "id": "x0f8gozSU4YF"
   },
   "source": [
    "La covarianza nos da"
   ]
  },
  {
   "cell_type": "code",
   "execution_count": null,
   "metadata": {
    "id": "qyOWwrbQU4YH"
   },
   "outputs": [],
   "source": [
    "cov = np.sum((x - x.mean())*(y - y.mean()))/x.size\n",
    "print(cov)"
   ]
  },
  {
   "cell_type": "code",
   "execution_count": null,
   "metadata": {
    "id": "_90NldnwU4YP"
   },
   "outputs": [],
   "source": [
    "corr = cov/(x.std()*y.std())\n",
    "corr"
   ]
  },
  {
   "cell_type": "markdown",
   "metadata": {
    "id": "9XiFp1CZU4YX"
   },
   "source": [
    "Notar que la correlación de un valor alrededor de cero, indicando que no hay una correlación entre ambas variables. Pero esto NO indica que no hay una *relación* entre esas variables, solamente nos dice que no es lineal. Por eso es muy importante graficar.\n",
    "\n",
    "**Probar** cambiando la relación matemática entre `x` e `y` y mirar qué pasa.\n",
    "\n",
    "Para tratar con relaciones no lineal entre variables, existen otros tipos de correlaciones. La que vimos se llama **Correlación de Pearson**, que es la más famosa. Pero también existen otras, Spearman y Kendall, que son muy útiles cuando existe una relación no lineal entre variables.\n",
    "\n",
    "### 3. Correlación en Pandas\n",
    "\n",
    "Probablemente ya estés un poco mareado/a con tantos términos, conceptos y líneas de código. Si no entendiste del todo lo anterior, no te preocupes. Vamos a ver cómo lo aplicamos en un conjunto de datos. ¡Verás que es muy sencillo!\n",
    "\n",
    "Para eso, volvemos a usar el Iris Dataset del encuentro anterior."
   ]
  },
  {
   "cell_type": "code",
   "execution_count": null,
   "metadata": {
    "id": "jwu9X-67U4Ya"
   },
   "outputs": [],
   "source": [
    "import pandas as pd"
   ]
  },
  {
   "cell_type": "code",
   "execution_count": null,
   "metadata": {
    "id": "QSWYv0_WU4Yk"
   },
   "outputs": [],
   "source": [
    "data = pd.read_csv('DS_Bitácora_04_Iris.csv')\n",
    "data.drop(columns = 'Id', inplace = True)\n",
    "data.head()"
   ]
  },
  {
   "cell_type": "markdown",
   "metadata": {
    "id": "_hpR90jUU4Yr"
   },
   "source": [
    "Para obtener las correlaciones entre las distintas variables, simplemente tenemos que hacer:"
   ]
  },
  {
   "cell_type": "code",
   "execution_count": null,
   "metadata": {
    "id": "j24K4utyU4Yw"
   },
   "outputs": [],
   "source": [
    "data.corr()"
   ]
  },
  {
   "cell_type": "markdown",
   "metadata": {
    "id": "1ePNNkIzU4Y3"
   },
   "source": [
    "**Para responder**: ¿Cuáles variables están correlacionadas entre sí?¿Por qué los elementos de la diagonal son exactamente uno (1.0)?\n",
    "\n",
    "Dentro de dos encuentros veremos una forma más eficiente de visualizar esta información, ¡pero ya puedes aplicarla!"
   ]
  }
 ],
 "metadata": {
  "colab": {
   "collapsed_sections": [],
   "name": "DS_Bitácora_05_Probabilidad.ipynb",
   "provenance": []
  },
  "kernelspec": {
   "display_name": "Python 3",
   "language": "python",
   "name": "python3"
  },
  "language_info": {
   "codemirror_mode": {
    "name": "ipython",
    "version": 3
   },
   "file_extension": ".py",
   "mimetype": "text/x-python",
   "name": "python",
   "nbconvert_exporter": "python",
   "pygments_lexer": "ipython3",
   "version": "3.9.1"
  }
 },
 "nbformat": 4,
 "nbformat_minor": 4
}
